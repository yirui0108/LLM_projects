{
 "cells": [
  {
   "cell_type": "markdown",
   "id": "ab41e384-5ebc-4c95-823b-d221bc706f87",
   "metadata": {},
   "source": [
    "# Cold Email generator (Notebook prototype)"
   ]
  },
  {
   "cell_type": "markdown",
   "id": "2d358189-e4ea-4c59-9ea1-b49dcdbffcf3",
   "metadata": {},
   "source": [
    "### Reference: https://youtu.be/CO4E_9V6li0"
   ]
  },
  {
   "cell_type": "markdown",
   "id": "ee251929-abb0-4f62-926a-c3ab545b6e34",
   "metadata": {},
   "source": [
    "### Instantiate the llm model (llama-3.3-70b-versatile)"
   ]
  },
  {
   "cell_type": "markdown",
   "id": "60805ad7-2d65-4789-8a95-5447685aa680",
   "metadata": {},
   "source": [
    "Utilize groq for faster inference"
   ]
  },
  {
   "cell_type": "code",
   "execution_count": 13,
   "id": "9d79fe84-8e89-4c30-8511-50a0896c7d5d",
   "metadata": {},
   "outputs": [],
   "source": [
    "from langchain_groq import ChatGroq\n",
    "\n",
    "llm = ChatGroq(\n",
    "    temperature=0,\n",
    "    groq_api_key = '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',\n",
    "    model=\"llama-3.3-70b-versatile\",\n",
    ")\n"
   ]
  },
  {
   "cell_type": "markdown",
   "id": "8bd44436-7fcb-4dcd-908e-70ea5e2fcb4d",
   "metadata": {},
   "source": [
    "### Web scraping using WebBaseLoader"
   ]
  },
  {
   "cell_type": "code",
   "execution_count": 15,
   "id": "15807d34-1243-4198-a3c4-02d7683ffb42",
   "metadata": {},
   "outputs": [
    {
     "name": "stderr",
     "output_type": "stream",
     "text": [
      "USER_AGENT environment variable not set, consider setting it to identify your requests.\n"
     ]
    },
    {
     "name": "stdout",
     "output_type": "stream",
     "text": [
      "Apply for Supervisor - Las Vegas, NV. (South)\n",
      "\n",
      "Search JobsSkip navigationSearch JobsNIKE, INC. JOBSContract JobsJoin The Talent CommunityLife @ NikeOverviewBenefitsBrandsOverviewJordanConverseTeamsOverviewAdministrative SupportAdvanced InnovationAir Manufacturing InnovationAviationCommunicationsCustomer ServiceDesignDigitalFacilitiesFinance & AccountingGovernment & Public AffairsHuman ResourcesInsights & AnalyticsLegalManufacturing & EngineeringMarketingMerchandisingPlanningPrivacyProcurementProduct Creation, Development & ManagementRetail CorporateRetail StoresSalesSocial & Community ImpactSports MarketingStrategic PlanningSupply Chain, Distribution & LogisticsSustainabilityTechnologyLocationsOverviewNike WHQNike New York HQEHQ: Hilversum, The NetherlandsELC: Laakdal, BelgiumGreater China HQDiversity, Equity & InclusionOverviewMilitary InclusionDisability InclusionIndigenous InclusionInternshipsRetail StoresSupervisor - Las Vegas, NV. (South)Las Vegas, NevadaBecome a Part of the NIKE, Inc. TeamNIKE, Inc. does more than outfit the world’s best athletes. It is a place to explore potential, obliterate boundaries and push out the edges of what can be. The company looks for people who can grow, think, dream and create. Its culture thrives by embracing diversity and rewarding imagination. The brand seeks achievers, leaders and visionaries. At NIKE, Inc. it’s about each person bringing skills and passion to a challenging and constantly evolving game.To work in retail is to be the face of NIKE, Inc. With a relentless focus on product knowledge and customer service, Nike Retail teams give valuable experiences to consumers every day. From Shanghai to San Francisco, every store has a unique perspective and hosts an inspiring community of sport and style devotees. A career in Nike Retail demands creativity and ambition and offers the opportunity to grow with some of the best athletes, teammates and retail partners in the industry.Location & Store Type: Nike Clearance StoreAddress: Las Vegas, NV. (South)Starting Pay Rate: $18.50/hourHours: Full Time – 34-40 hours per week, including nights and weekendsWe believe that if you have a body, you are an athlete, which is why when you join our team as a Retail Supervisor, you are referred to as an Specialist. Are you ready to embrace it? Let’s do it.Lace Up as a Nike Retail Supervisor   As a Nike Retail Supervisor, you’re the face of NIKE.  Enjoy high-volume and a fast pace as your diverse experience and perspective helps guide customers in making the best decisions for them.  You’ll work with your team to focus on customer service and get to the win the right way. When we say team, we mean it. We go after goals together. We support your bold ideas — and encourage you to try them out. You impact our customers' experiences daily. It's more than getting the product from door to floor; it's being part of the first-time customers find their dream pair. Those iconic moments – that's our culture. Bring your just-do-it attitude, and let's be game-changers together. Be Rewarded for a Job Well DoneDiscounts for you and your family from Nike, Converse and Jordan up to 50% offAccrued Paid Time Off and Holiday PayAll full-time and part-time employees working 20 hours or more per week are eligible for 401(k) Plan, CERA, Employee Assistance Program, Mental and Emotional Health, Financial Coaching and Education, Child Development Support and Caregiving Benefits starting on the day you're hiredFull-time and part-time employees working 20 hours or more per week are eligible for Health Savings Accounts and Flexible Savings Accounts after 12 months of continuous employmentThe opportunity to buy Nike stock at a discount through our Employee Stock Purchase Plan (ESPP)Access to support through Optum Employee Assistance Program at no cost for you and your familyTuition Reimbursement up to $5,250 per calendar year for full-time Retail AssociatesPutting Your Best Foot ForwardMust be at least 181 year of retail or consumer service experience preferred Flexibility to work nights, weekends and holidays based on store needsUse customer service authentically to ensure customers feel seen and understood in our storesAbility to learn and train on the latest products and technologiesPhysical requirements include the ability to bend, squat, reach, climb a ladder and stand for extended periods of time with or without reasonable accommodations. What You're Responsible For Being enthusiastic, excited, and knowledgeable about NIKE products and services to best support customer needsBringing your positive attitude and passion to your teammates and customers every dayLead by example and deliver service in line with Nike’s Service Principles to bring the consumer journey to life.Making customers feel welcome, that you care about their wants and needs, and exceed their expectations at every step of their journeyPlaying by the rules and being professional, demonstrating integrity, reliability, and kindnessOperating a cash register, shipping, and receiving duties, stocking products, cleaning and building visual displays with or without accommodationsShowing up for your teammates by attending store eventsNIKE, Inc. is committed to employing a diverse workforce. Qualified applicants will receive consideration without regard to race, color, religion, sex, national origin, age, sexual orientation, gender identity, gender expression, veteran status, or disability. For more information, please refer to Equal Employment Opportunity is The LawNIKE, Inc. is a growth company that looks for team members to grow with it. Nike offers a generous total rewards package, casual work environment, a diverse and inclusive culture, and an electric atmosphere for professional development. No matter the location, or the role, every Nike employee shares one galvanizing mission: To bring inspiration and innovation to every athlete* in the world.NIKE, Inc. is committed to employing a diverse workforce. Qualified applicants will receive consideration without regard to race, color, religion, sex, national origin, age, sexual orientation, gender identity, gender expression, veteran status, or disability.How We HireAt NIKE, Inc. we promise to provide a premium, inclusive, compelling and authentic candidate experience. Delivering on this promise means we allow you to be at your best — and to do that, you need to understand how the hiring process works. Transparency is key.\n",
      "\n",
      "* This overview explains our hiring process for corporate roles. Note there may be different hiring steps involved for non-corporate roles.Start nowBenefitsWhether it’s transportation or financial health, we continually invest in our employees to help them achieve greatness — inside and outside of work. All who work here should be able to realize their full potential.Employee Assistance ProgramHolidaysMedical PlanPaid Time Off (PTO)Product DiscountsLearn moreFIND A STOREBECOME A MEMBERSIGN UP FOR EMAILSTUDENT DISCOUNTSSEND US FEEDBACKGET HELPGET HELPOrder StatusDeliveryReturnsPayment OptionsContact UsABOUT NIKEABOUT NIKENewsCareersInvestorsSustainabilitySingapore© 2024 Nike, Inc. All Rights ReservedGuidesNike AdaptNike Air MaxNike FlyleatherNike PegasusNike Zoom FlyNike AirNike FlyEaseNike FreeNike ReactNike ZoomXNike Air Force 1Nike FlyknitNike JoyrideNike VaporflyTerms of SaleTerms of UseNike Privacy Policy\n"
     ]
    }
   ],
   "source": [
    "from langchain_community.document_loaders import WebBaseLoader\n",
    "\n",
    "loader = WebBaseLoader(\"https://jobs.nike.com/job/R-47367?from=job%20search%20funnel\")\n",
    "page_data = loader.load().pop().page_content\n",
    "print(page_data)"
   ]
  },
  {
   "cell_type": "markdown",
   "id": "08353568-f169-4e03-a5c8-443703016e5e",
   "metadata": {},
   "source": [
    "### Prompt the llm model to extract information"
   ]
  },
  {
   "cell_type": "code",
   "execution_count": 16,
   "id": "29a973eb-262c-4916-ae66-63b420e82e10",
   "metadata": {},
   "outputs": [
    {
     "name": "stdout",
     "output_type": "stream",
     "text": [
      "```json\n",
      "{\n",
      "  \"role\": \"Supervisor - Las Vegas, NV. (South)\",\n",
      "  \"experience\": \"1-8 years of retail or consumer service experience preferred\",\n",
      "  \"skills\": [\n",
      "    \"Customer service\",\n",
      "    \"Product knowledge\",\n",
      "    \"Leadership\",\n",
      "    \"Communication\",\n",
      "    \"Teamwork\",\n",
      "    \"Adaptability\",\n",
      "    \"Time management\"\n",
      "  ],\n",
      "  \"description\": \"As a Nike Retail Supervisor, you're the face of NIKE. Enjoy high-volume and a fast pace as your diverse experience and perspective helps guide customers in making the best decisions for them. You'll work with your team to focus on customer service and get to the win the right way.\"\n",
      "}\n",
      "```\n"
     ]
    }
   ],
   "source": [
    "from langchain_core.prompts import PromptTemplate\n",
    "\n",
    "prompt_extract = PromptTemplate.from_template(\n",
    "    \"\"\"\n",
    "    ### SCRAPPED TEXT FROM WEBSITE:\n",
    "    {page_data}\n",
    "    ### INSTRUCTION:\n",
    "    The scraped text is from the career's page of a website.\n",
    "    Your job is to extract the job postings and return them in JSON format containing the \n",
    "    following keys: `role`, `experience`, `skills`, and `description`.\n",
    "    Only return the valid JSON.\n",
    "    ### VALID JSON (NO PREAMBLE):\n",
    "    \"\"\"\n",
    ")\n",
    "\n",
    "chain_extract = prompt_extract | llm\n",
    "res = chain_extract.invoke(input = {'page_data':page_data})\n",
    "print(res.content)"
   ]
  },
  {
   "cell_type": "markdown",
   "id": "4de08bf0-2cb4-45fe-be82-b609e73fa4e2",
   "metadata": {},
   "source": [
    "### Convert the information from string to json dictionary"
   ]
  },
  {
   "cell_type": "code",
   "execution_count": 17,
   "id": "cd93585c-9136-41ff-8e88-d87d1a55a11b",
   "metadata": {},
   "outputs": [
    {
     "data": {
      "text/plain": [
       "{'role': 'Supervisor - Las Vegas, NV. (South)',\n",
       " 'experience': '1-8 years of retail or consumer service experience preferred',\n",
       " 'skills': ['Customer service',\n",
       "  'Product knowledge',\n",
       "  'Leadership',\n",
       "  'Communication',\n",
       "  'Teamwork',\n",
       "  'Adaptability',\n",
       "  'Time management'],\n",
       " 'description': \"As a Nike Retail Supervisor, you're the face of NIKE. Enjoy high-volume and a fast pace as your diverse experience and perspective helps guide customers in making the best decisions for them. You'll work with your team to focus on customer service and get to the win the right way.\"}"
      ]
     },
     "execution_count": 17,
     "metadata": {},
     "output_type": "execute_result"
    }
   ],
   "source": [
    "from langchain_core.output_parsers import JsonOutputParser\n",
    "\n",
    "json_parser = JsonOutputParser()\n",
    "json_res = json_parser.parse(res.content)\n",
    "job = json_res\n",
    "job"
   ]
  },
  {
   "cell_type": "markdown",
   "id": "04ce4e36-f2fe-4378-9151-3a6587f4ba13",
   "metadata": {},
   "source": [
    "### Prompt the llm model by passing the json dictionary to generate a cold email"
   ]
  },
  {
   "cell_type": "code",
   "execution_count": 18,
   "id": "7360ab97-9f6f-46ed-a4c4-60c4c4b552f3",
   "metadata": {},
   "outputs": [
    {
     "name": "stdout",
     "output_type": "stream",
     "text": [
      "Subject: Application for Supervisor Role at Nike Retail - Las Vegas, NV\n",
      "\n",
      "Dear Hiring Manager,\n",
      "\n",
      "I am excited to apply for the Supervisor role at Nike Retail in Las Vegas, NV (South). With my extensive experience in leading high-performing teams and driving customer satisfaction, I am confident that I can make a significant impact at Nike.\n",
      "\n",
      "As the CEO of SpaceX and Tesla, I have developed strong leadership skills, which have been instrumental in guiding my teams to achieve exceptional results. My experience in managing complex projects and driving innovation has taught me the importance of effective communication, teamwork, and adaptability. I am excited about the opportunity to bring my skills and experience to a retail environment and contribute to delivering exceptional customer service.\n",
      "\n",
      "I am particularly drawn to this role because of the emphasis on customer service, product knowledge, and teamwork. My ability to think strategically and make informed decisions will enable me to provide guidance and support to my team, ensuring that customers receive the best possible experience. My excellent communication skills will also facilitate effective collaboration with colleagues and stakeholders to drive business results.\n",
      "\n",
      "In addition to my leadership experience, I possess a strong work ethic and a willingness to learn and adapt to new situations. I am confident that my unique perspective and experience will enable me to make a valuable contribution to the Nike team and drive success in the Las Vegas market.\n",
      "\n",
      "I would welcome the opportunity to discuss my application and how my skills and experience align with the requirements of the role. Please do not hesitate to contact me if you require any additional information.\n",
      "\n",
      "Thank you for considering my application. I look forward to the opportunity to discuss this further.\n",
      "\n",
      "Best regards,\n",
      "Elon\n"
     ]
    }
   ],
   "source": [
    "prompt_email = PromptTemplate.from_template(\n",
    "    \"\"\"\n",
    "    ### JOB DESCRIPTION:\n",
    "    {job_description}\n",
    "    \n",
    "    ### INSTRUCTION:\n",
    "    You are Elon, the CEO of multiple big companies like SpaceX, Tesla etc.\n",
    "    Your job is to write a cold email to the client regarding the job mentioned above describing the capability of you\n",
    "    in fulfilling their needs.\n",
    "    Do not provide a preamble.\n",
    "    ### EMAIL (NO PREAMBLE):\n",
    "    \"\"\"\n",
    ")\n",
    "\n",
    "chain_email = prompt_email | llm\n",
    "res = chain_email.invoke({\"job_description\": str(job)})\n",
    "print(res.content)"
   ]
  }
 ],
 "metadata": {
  "kernelspec": {
   "display_name": "Python 3 (ipykernel)",
   "language": "python",
   "name": "python3"
  },
  "language_info": {
   "codemirror_mode": {
    "name": "ipython",
    "version": 3
   },
   "file_extension": ".py",
   "mimetype": "text/x-python",
   "name": "python",
   "nbconvert_exporter": "python",
   "pygments_lexer": "ipython3",
   "version": "3.12.4"
  }
 },
 "nbformat": 4,
 "nbformat_minor": 5
}
