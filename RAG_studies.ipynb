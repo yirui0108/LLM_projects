{
  "nbformat": 4,
  "nbformat_minor": 0,
  "metadata": {
    "colab": {
      "provenance": []
    },
    "kernelspec": {
      "name": "python3",
      "display_name": "Python 3"
    },
    "language_info": {
      "name": "python"
    },
    "widgets": {
      "application/vnd.jupyter.widget-state+json": {
        "6488a83174ef40da9e916796a6950e4a": {
          "model_module": "@jupyter-widgets/controls",
          "model_name": "HBoxModel",
          "model_module_version": "1.5.0",
          "state": {
            "_dom_classes": [],
            "_model_module": "@jupyter-widgets/controls",
            "_model_module_version": "1.5.0",
            "_model_name": "HBoxModel",
            "_view_count": null,
            "_view_module": "@jupyter-widgets/controls",
            "_view_module_version": "1.5.0",
            "_view_name": "HBoxView",
            "box_style": "",
            "children": [
              "IPY_MODEL_78b5c074e0e6402a99d5d832824da5e5",
              "IPY_MODEL_e326772a8e5444dcb4859827375f249b",
              "IPY_MODEL_545d35c0730c471986dd09dd48ff9890"
            ],
            "layout": "IPY_MODEL_585ebb7dc5d54a209d8805bca030219f"
          }
        },
        "78b5c074e0e6402a99d5d832824da5e5": {
          "model_module": "@jupyter-widgets/controls",
          "model_name": "HTMLModel",
          "model_module_version": "1.5.0",
          "state": {
            "_dom_classes": [],
            "_model_module": "@jupyter-widgets/controls",
            "_model_module_version": "1.5.0",
            "_model_name": "HTMLModel",
            "_view_count": null,
            "_view_module": "@jupyter-widgets/controls",
            "_view_module_version": "1.5.0",
            "_view_name": "HTMLView",
            "description": "",
            "description_tooltip": null,
            "layout": "IPY_MODEL_a2663dbfe6164e41975c82ed844f4810",
            "placeholder": "​",
            "style": "IPY_MODEL_59748bc69e6447ecb02e05da48b3a5e0",
            "value": "Fetching 5 files: 100%"
          }
        },
        "e326772a8e5444dcb4859827375f249b": {
          "model_module": "@jupyter-widgets/controls",
          "model_name": "FloatProgressModel",
          "model_module_version": "1.5.0",
          "state": {
            "_dom_classes": [],
            "_model_module": "@jupyter-widgets/controls",
            "_model_module_version": "1.5.0",
            "_model_name": "FloatProgressModel",
            "_view_count": null,
            "_view_module": "@jupyter-widgets/controls",
            "_view_module_version": "1.5.0",
            "_view_name": "ProgressView",
            "bar_style": "success",
            "description": "",
            "description_tooltip": null,
            "layout": "IPY_MODEL_c6af5bdd703742589c7bda1048bc433c",
            "max": 5,
            "min": 0,
            "orientation": "horizontal",
            "style": "IPY_MODEL_9c018aa6886443bc9024bb154e1f812e",
            "value": 5
          }
        },
        "545d35c0730c471986dd09dd48ff9890": {
          "model_module": "@jupyter-widgets/controls",
          "model_name": "HTMLModel",
          "model_module_version": "1.5.0",
          "state": {
            "_dom_classes": [],
            "_model_module": "@jupyter-widgets/controls",
            "_model_module_version": "1.5.0",
            "_model_name": "HTMLModel",
            "_view_count": null,
            "_view_module": "@jupyter-widgets/controls",
            "_view_module_version": "1.5.0",
            "_view_name": "HTMLView",
            "description": "",
            "description_tooltip": null,
            "layout": "IPY_MODEL_c3958cd7c2b9480bbe94ebdf570a9894",
            "placeholder": "​",
            "style": "IPY_MODEL_d7d4f4d257c34ca29febf09cf635307d",
            "value": " 5/5 [00:06&lt;00:00,  3.81s/it]"
          }
        },
        "585ebb7dc5d54a209d8805bca030219f": {
          "model_module": "@jupyter-widgets/base",
          "model_name": "LayoutModel",
          "model_module_version": "1.2.0",
          "state": {
            "_model_module": "@jupyter-widgets/base",
            "_model_module_version": "1.2.0",
            "_model_name": "LayoutModel",
            "_view_count": null,
            "_view_module": "@jupyter-widgets/base",
            "_view_module_version": "1.2.0",
            "_view_name": "LayoutView",
            "align_content": null,
            "align_items": null,
            "align_self": null,
            "border": null,
            "bottom": null,
            "display": null,
            "flex": null,
            "flex_flow": null,
            "grid_area": null,
            "grid_auto_columns": null,
            "grid_auto_flow": null,
            "grid_auto_rows": null,
            "grid_column": null,
            "grid_gap": null,
            "grid_row": null,
            "grid_template_areas": null,
            "grid_template_columns": null,
            "grid_template_rows": null,
            "height": null,
            "justify_content": null,
            "justify_items": null,
            "left": null,
            "margin": null,
            "max_height": null,
            "max_width": null,
            "min_height": null,
            "min_width": null,
            "object_fit": null,
            "object_position": null,
            "order": null,
            "overflow": null,
            "overflow_x": null,
            "overflow_y": null,
            "padding": null,
            "right": null,
            "top": null,
            "visibility": null,
            "width": null
          }
        },
        "a2663dbfe6164e41975c82ed844f4810": {
          "model_module": "@jupyter-widgets/base",
          "model_name": "LayoutModel",
          "model_module_version": "1.2.0",
          "state": {
            "_model_module": "@jupyter-widgets/base",
            "_model_module_version": "1.2.0",
            "_model_name": "LayoutModel",
            "_view_count": null,
            "_view_module": "@jupyter-widgets/base",
            "_view_module_version": "1.2.0",
            "_view_name": "LayoutView",
            "align_content": null,
            "align_items": null,
            "align_self": null,
            "border": null,
            "bottom": null,
            "display": null,
            "flex": null,
            "flex_flow": null,
            "grid_area": null,
            "grid_auto_columns": null,
            "grid_auto_flow": null,
            "grid_auto_rows": null,
            "grid_column": null,
            "grid_gap": null,
            "grid_row": null,
            "grid_template_areas": null,
            "grid_template_columns": null,
            "grid_template_rows": null,
            "height": null,
            "justify_content": null,
            "justify_items": null,
            "left": null,
            "margin": null,
            "max_height": null,
            "max_width": null,
            "min_height": null,
            "min_width": null,
            "object_fit": null,
            "object_position": null,
            "order": null,
            "overflow": null,
            "overflow_x": null,
            "overflow_y": null,
            "padding": null,
            "right": null,
            "top": null,
            "visibility": null,
            "width": null
          }
        },
        "59748bc69e6447ecb02e05da48b3a5e0": {
          "model_module": "@jupyter-widgets/controls",
          "model_name": "DescriptionStyleModel",
          "model_module_version": "1.5.0",
          "state": {
            "_model_module": "@jupyter-widgets/controls",
            "_model_module_version": "1.5.0",
            "_model_name": "DescriptionStyleModel",
            "_view_count": null,
            "_view_module": "@jupyter-widgets/base",
            "_view_module_version": "1.2.0",
            "_view_name": "StyleView",
            "description_width": ""
          }
        },
        "c6af5bdd703742589c7bda1048bc433c": {
          "model_module": "@jupyter-widgets/base",
          "model_name": "LayoutModel",
          "model_module_version": "1.2.0",
          "state": {
            "_model_module": "@jupyter-widgets/base",
            "_model_module_version": "1.2.0",
            "_model_name": "LayoutModel",
            "_view_count": null,
            "_view_module": "@jupyter-widgets/base",
            "_view_module_version": "1.2.0",
            "_view_name": "LayoutView",
            "align_content": null,
            "align_items": null,
            "align_self": null,
            "border": null,
            "bottom": null,
            "display": null,
            "flex": null,
            "flex_flow": null,
            "grid_area": null,
            "grid_auto_columns": null,
            "grid_auto_flow": null,
            "grid_auto_rows": null,
            "grid_column": null,
            "grid_gap": null,
            "grid_row": null,
            "grid_template_areas": null,
            "grid_template_columns": null,
            "grid_template_rows": null,
            "height": null,
            "justify_content": null,
            "justify_items": null,
            "left": null,
            "margin": null,
            "max_height": null,
            "max_width": null,
            "min_height": null,
            "min_width": null,
            "object_fit": null,
            "object_position": null,
            "order": null,
            "overflow": null,
            "overflow_x": null,
            "overflow_y": null,
            "padding": null,
            "right": null,
            "top": null,
            "visibility": null,
            "width": null
          }
        },
        "9c018aa6886443bc9024bb154e1f812e": {
          "model_module": "@jupyter-widgets/controls",
          "model_name": "ProgressStyleModel",
          "model_module_version": "1.5.0",
          "state": {
            "_model_module": "@jupyter-widgets/controls",
            "_model_module_version": "1.5.0",
            "_model_name": "ProgressStyleModel",
            "_view_count": null,
            "_view_module": "@jupyter-widgets/base",
            "_view_module_version": "1.2.0",
            "_view_name": "StyleView",
            "bar_color": null,
            "description_width": ""
          }
        },
        "c3958cd7c2b9480bbe94ebdf570a9894": {
          "model_module": "@jupyter-widgets/base",
          "model_name": "LayoutModel",
          "model_module_version": "1.2.0",
          "state": {
            "_model_module": "@jupyter-widgets/base",
            "_model_module_version": "1.2.0",
            "_model_name": "LayoutModel",
            "_view_count": null,
            "_view_module": "@jupyter-widgets/base",
            "_view_module_version": "1.2.0",
            "_view_name": "LayoutView",
            "align_content": null,
            "align_items": null,
            "align_self": null,
            "border": null,
            "bottom": null,
            "display": null,
            "flex": null,
            "flex_flow": null,
            "grid_area": null,
            "grid_auto_columns": null,
            "grid_auto_flow": null,
            "grid_auto_rows": null,
            "grid_column": null,
            "grid_gap": null,
            "grid_row": null,
            "grid_template_areas": null,
            "grid_template_columns": null,
            "grid_template_rows": null,
            "height": null,
            "justify_content": null,
            "justify_items": null,
            "left": null,
            "margin": null,
            "max_height": null,
            "max_width": null,
            "min_height": null,
            "min_width": null,
            "object_fit": null,
            "object_position": null,
            "order": null,
            "overflow": null,
            "overflow_x": null,
            "overflow_y": null,
            "padding": null,
            "right": null,
            "top": null,
            "visibility": null,
            "width": null
          }
        },
        "d7d4f4d257c34ca29febf09cf635307d": {
          "model_module": "@jupyter-widgets/controls",
          "model_name": "DescriptionStyleModel",
          "model_module_version": "1.5.0",
          "state": {
            "_model_module": "@jupyter-widgets/controls",
            "_model_module_version": "1.5.0",
            "_model_name": "DescriptionStyleModel",
            "_view_count": null,
            "_view_module": "@jupyter-widgets/base",
            "_view_module_version": "1.2.0",
            "_view_name": "StyleView",
            "description_width": ""
          }
        },
        "47c8400995e440f5b5ba4fb8bcd9ed18": {
          "model_module": "@jupyter-widgets/controls",
          "model_name": "HBoxModel",
          "model_module_version": "1.5.0",
          "state": {
            "_dom_classes": [],
            "_model_module": "@jupyter-widgets/controls",
            "_model_module_version": "1.5.0",
            "_model_name": "HBoxModel",
            "_view_count": null,
            "_view_module": "@jupyter-widgets/controls",
            "_view_module_version": "1.5.0",
            "_view_name": "HBoxView",
            "box_style": "",
            "children": [
              "IPY_MODEL_b0472a939d1e4e04bc9f856f94bc219c",
              "IPY_MODEL_41a65948c243442f8fbf0c24948b5b94",
              "IPY_MODEL_fdccccf339b641c3a65b40fc78540d6c"
            ],
            "layout": "IPY_MODEL_cbcce8f538884c4dbc3812347935fb42"
          }
        },
        "b0472a939d1e4e04bc9f856f94bc219c": {
          "model_module": "@jupyter-widgets/controls",
          "model_name": "HTMLModel",
          "model_module_version": "1.5.0",
          "state": {
            "_dom_classes": [],
            "_model_module": "@jupyter-widgets/controls",
            "_model_module_version": "1.5.0",
            "_model_name": "HTMLModel",
            "_view_count": null,
            "_view_module": "@jupyter-widgets/controls",
            "_view_module_version": "1.5.0",
            "_view_name": "HTMLView",
            "description": "",
            "description_tooltip": null,
            "layout": "IPY_MODEL_97c7f3e1f0b6441f9191eb2a5e9916cb",
            "placeholder": "​",
            "style": "IPY_MODEL_7789057b47d249f39510e65cb1895066",
            "value": "config.json: 100%"
          }
        },
        "41a65948c243442f8fbf0c24948b5b94": {
          "model_module": "@jupyter-widgets/controls",
          "model_name": "FloatProgressModel",
          "model_module_version": "1.5.0",
          "state": {
            "_dom_classes": [],
            "_model_module": "@jupyter-widgets/controls",
            "_model_module_version": "1.5.0",
            "_model_name": "FloatProgressModel",
            "_view_count": null,
            "_view_module": "@jupyter-widgets/controls",
            "_view_module_version": "1.5.0",
            "_view_name": "ProgressView",
            "bar_style": "success",
            "description": "",
            "description_tooltip": null,
            "layout": "IPY_MODEL_eb6b585c6c9b40c688f4b884d2cc4c7b",
            "max": 706,
            "min": 0,
            "orientation": "horizontal",
            "style": "IPY_MODEL_b1784833b7df45ce9333603ef70c112d",
            "value": 706
          }
        },
        "fdccccf339b641c3a65b40fc78540d6c": {
          "model_module": "@jupyter-widgets/controls",
          "model_name": "HTMLModel",
          "model_module_version": "1.5.0",
          "state": {
            "_dom_classes": [],
            "_model_module": "@jupyter-widgets/controls",
            "_model_module_version": "1.5.0",
            "_model_name": "HTMLModel",
            "_view_count": null,
            "_view_module": "@jupyter-widgets/controls",
            "_view_module_version": "1.5.0",
            "_view_name": "HTMLView",
            "description": "",
            "description_tooltip": null,
            "layout": "IPY_MODEL_b26b92dc82204db38253d8b4609f70d1",
            "placeholder": "​",
            "style": "IPY_MODEL_e549c9cea7904f4a848f550ae4156508",
            "value": " 706/706 [00:00&lt;00:00, 11.1kB/s]"
          }
        },
        "cbcce8f538884c4dbc3812347935fb42": {
          "model_module": "@jupyter-widgets/base",
          "model_name": "LayoutModel",
          "model_module_version": "1.2.0",
          "state": {
            "_model_module": "@jupyter-widgets/base",
            "_model_module_version": "1.2.0",
            "_model_name": "LayoutModel",
            "_view_count": null,
            "_view_module": "@jupyter-widgets/base",
            "_view_module_version": "1.2.0",
            "_view_name": "LayoutView",
            "align_content": null,
            "align_items": null,
            "align_self": null,
            "border": null,
            "bottom": null,
            "display": null,
            "flex": null,
            "flex_flow": null,
            "grid_area": null,
            "grid_auto_columns": null,
            "grid_auto_flow": null,
            "grid_auto_rows": null,
            "grid_column": null,
            "grid_gap": null,
            "grid_row": null,
            "grid_template_areas": null,
            "grid_template_columns": null,
            "grid_template_rows": null,
            "height": null,
            "justify_content": null,
            "justify_items": null,
            "left": null,
            "margin": null,
            "max_height": null,
            "max_width": null,
            "min_height": null,
            "min_width": null,
            "object_fit": null,
            "object_position": null,
            "order": null,
            "overflow": null,
            "overflow_x": null,
            "overflow_y": null,
            "padding": null,
            "right": null,
            "top": null,
            "visibility": null,
            "width": null
          }
        },
        "97c7f3e1f0b6441f9191eb2a5e9916cb": {
          "model_module": "@jupyter-widgets/base",
          "model_name": "LayoutModel",
          "model_module_version": "1.2.0",
          "state": {
            "_model_module": "@jupyter-widgets/base",
            "_model_module_version": "1.2.0",
            "_model_name": "LayoutModel",
            "_view_count": null,
            "_view_module": "@jupyter-widgets/base",
            "_view_module_version": "1.2.0",
            "_view_name": "LayoutView",
            "align_content": null,
            "align_items": null,
            "align_self": null,
            "border": null,
            "bottom": null,
            "display": null,
            "flex": null,
            "flex_flow": null,
            "grid_area": null,
            "grid_auto_columns": null,
            "grid_auto_flow": null,
            "grid_auto_rows": null,
            "grid_column": null,
            "grid_gap": null,
            "grid_row": null,
            "grid_template_areas": null,
            "grid_template_columns": null,
            "grid_template_rows": null,
            "height": null,
            "justify_content": null,
            "justify_items": null,
            "left": null,
            "margin": null,
            "max_height": null,
            "max_width": null,
            "min_height": null,
            "min_width": null,
            "object_fit": null,
            "object_position": null,
            "order": null,
            "overflow": null,
            "overflow_x": null,
            "overflow_y": null,
            "padding": null,
            "right": null,
            "top": null,
            "visibility": null,
            "width": null
          }
        },
        "7789057b47d249f39510e65cb1895066": {
          "model_module": "@jupyter-widgets/controls",
          "model_name": "DescriptionStyleModel",
          "model_module_version": "1.5.0",
          "state": {
            "_model_module": "@jupyter-widgets/controls",
            "_model_module_version": "1.5.0",
            "_model_name": "DescriptionStyleModel",
            "_view_count": null,
            "_view_module": "@jupyter-widgets/base",
            "_view_module_version": "1.2.0",
            "_view_name": "StyleView",
            "description_width": ""
          }
        },
        "eb6b585c6c9b40c688f4b884d2cc4c7b": {
          "model_module": "@jupyter-widgets/base",
          "model_name": "LayoutModel",
          "model_module_version": "1.2.0",
          "state": {
            "_model_module": "@jupyter-widgets/base",
            "_model_module_version": "1.2.0",
            "_model_name": "LayoutModel",
            "_view_count": null,
            "_view_module": "@jupyter-widgets/base",
            "_view_module_version": "1.2.0",
            "_view_name": "LayoutView",
            "align_content": null,
            "align_items": null,
            "align_self": null,
            "border": null,
            "bottom": null,
            "display": null,
            "flex": null,
            "flex_flow": null,
            "grid_area": null,
            "grid_auto_columns": null,
            "grid_auto_flow": null,
            "grid_auto_rows": null,
            "grid_column": null,
            "grid_gap": null,
            "grid_row": null,
            "grid_template_areas": null,
            "grid_template_columns": null,
            "grid_template_rows": null,
            "height": null,
            "justify_content": null,
            "justify_items": null,
            "left": null,
            "margin": null,
            "max_height": null,
            "max_width": null,
            "min_height": null,
            "min_width": null,
            "object_fit": null,
            "object_position": null,
            "order": null,
            "overflow": null,
            "overflow_x": null,
            "overflow_y": null,
            "padding": null,
            "right": null,
            "top": null,
            "visibility": null,
            "width": null
          }
        },
        "b1784833b7df45ce9333603ef70c112d": {
          "model_module": "@jupyter-widgets/controls",
          "model_name": "ProgressStyleModel",
          "model_module_version": "1.5.0",
          "state": {
            "_model_module": "@jupyter-widgets/controls",
            "_model_module_version": "1.5.0",
            "_model_name": "ProgressStyleModel",
            "_view_count": null,
            "_view_module": "@jupyter-widgets/base",
            "_view_module_version": "1.2.0",
            "_view_name": "StyleView",
            "bar_color": null,
            "description_width": ""
          }
        },
        "b26b92dc82204db38253d8b4609f70d1": {
          "model_module": "@jupyter-widgets/base",
          "model_name": "LayoutModel",
          "model_module_version": "1.2.0",
          "state": {
            "_model_module": "@jupyter-widgets/base",
            "_model_module_version": "1.2.0",
            "_model_name": "LayoutModel",
            "_view_count": null,
            "_view_module": "@jupyter-widgets/base",
            "_view_module_version": "1.2.0",
            "_view_name": "LayoutView",
            "align_content": null,
            "align_items": null,
            "align_self": null,
            "border": null,
            "bottom": null,
            "display": null,
            "flex": null,
            "flex_flow": null,
            "grid_area": null,
            "grid_auto_columns": null,
            "grid_auto_flow": null,
            "grid_auto_rows": null,
            "grid_column": null,
            "grid_gap": null,
            "grid_row": null,
            "grid_template_areas": null,
            "grid_template_columns": null,
            "grid_template_rows": null,
            "height": null,
            "justify_content": null,
            "justify_items": null,
            "left": null,
            "margin": null,
            "max_height": null,
            "max_width": null,
            "min_height": null,
            "min_width": null,
            "object_fit": null,
            "object_position": null,
            "order": null,
            "overflow": null,
            "overflow_x": null,
            "overflow_y": null,
            "padding": null,
            "right": null,
            "top": null,
            "visibility": null,
            "width": null
          }
        },
        "e549c9cea7904f4a848f550ae4156508": {
          "model_module": "@jupyter-widgets/controls",
          "model_name": "DescriptionStyleModel",
          "model_module_version": "1.5.0",
          "state": {
            "_model_module": "@jupyter-widgets/controls",
            "_model_module_version": "1.5.0",
            "_model_name": "DescriptionStyleModel",
            "_view_count": null,
            "_view_module": "@jupyter-widgets/base",
            "_view_module_version": "1.2.0",
            "_view_name": "StyleView",
            "description_width": ""
          }
        },
        "45af3e9dd3e148e8b47cf79e3dd7c44c": {
          "model_module": "@jupyter-widgets/controls",
          "model_name": "HBoxModel",
          "model_module_version": "1.5.0",
          "state": {
            "_dom_classes": [],
            "_model_module": "@jupyter-widgets/controls",
            "_model_module_version": "1.5.0",
            "_model_name": "HBoxModel",
            "_view_count": null,
            "_view_module": "@jupyter-widgets/controls",
            "_view_module_version": "1.5.0",
            "_view_name": "HBoxView",
            "box_style": "",
            "children": [
              "IPY_MODEL_1af97683c4474ec4b07769a0d4adfdf6",
              "IPY_MODEL_a7022116aa5045afa37349f7b35667a0",
              "IPY_MODEL_fca04b2cd52b49f8a71aef80432bac37"
            ],
            "layout": "IPY_MODEL_d91af704e4a34009926b4a3fad26862f"
          }
        },
        "1af97683c4474ec4b07769a0d4adfdf6": {
          "model_module": "@jupyter-widgets/controls",
          "model_name": "HTMLModel",
          "model_module_version": "1.5.0",
          "state": {
            "_dom_classes": [],
            "_model_module": "@jupyter-widgets/controls",
            "_model_module_version": "1.5.0",
            "_model_name": "HTMLModel",
            "_view_count": null,
            "_view_module": "@jupyter-widgets/controls",
            "_view_module_version": "1.5.0",
            "_view_name": "HTMLView",
            "description": "",
            "description_tooltip": null,
            "layout": "IPY_MODEL_923d3646314c40148e9a8f47f623a746",
            "placeholder": "​",
            "style": "IPY_MODEL_09e505d6e8b94e99b5ecfbe5a3ab3655",
            "value": "special_tokens_map.json: 100%"
          }
        },
        "a7022116aa5045afa37349f7b35667a0": {
          "model_module": "@jupyter-widgets/controls",
          "model_name": "FloatProgressModel",
          "model_module_version": "1.5.0",
          "state": {
            "_dom_classes": [],
            "_model_module": "@jupyter-widgets/controls",
            "_model_module_version": "1.5.0",
            "_model_name": "FloatProgressModel",
            "_view_count": null,
            "_view_module": "@jupyter-widgets/controls",
            "_view_module_version": "1.5.0",
            "_view_name": "ProgressView",
            "bar_style": "success",
            "description": "",
            "description_tooltip": null,
            "layout": "IPY_MODEL_f1745c6297344ffca65342c72be2921f",
            "max": 695,
            "min": 0,
            "orientation": "horizontal",
            "style": "IPY_MODEL_676e1eb051b24daeac54b0ecb96f1486",
            "value": 695
          }
        },
        "fca04b2cd52b49f8a71aef80432bac37": {
          "model_module": "@jupyter-widgets/controls",
          "model_name": "HTMLModel",
          "model_module_version": "1.5.0",
          "state": {
            "_dom_classes": [],
            "_model_module": "@jupyter-widgets/controls",
            "_model_module_version": "1.5.0",
            "_model_name": "HTMLModel",
            "_view_count": null,
            "_view_module": "@jupyter-widgets/controls",
            "_view_module_version": "1.5.0",
            "_view_name": "HTMLView",
            "description": "",
            "description_tooltip": null,
            "layout": "IPY_MODEL_b95bb2be85134594945c89c372a7691a",
            "placeholder": "​",
            "style": "IPY_MODEL_46a57bc8a7d84611a494a29d247d5abe",
            "value": " 695/695 [00:00&lt;00:00, 6.81kB/s]"
          }
        },
        "d91af704e4a34009926b4a3fad26862f": {
          "model_module": "@jupyter-widgets/base",
          "model_name": "LayoutModel",
          "model_module_version": "1.2.0",
          "state": {
            "_model_module": "@jupyter-widgets/base",
            "_model_module_version": "1.2.0",
            "_model_name": "LayoutModel",
            "_view_count": null,
            "_view_module": "@jupyter-widgets/base",
            "_view_module_version": "1.2.0",
            "_view_name": "LayoutView",
            "align_content": null,
            "align_items": null,
            "align_self": null,
            "border": null,
            "bottom": null,
            "display": null,
            "flex": null,
            "flex_flow": null,
            "grid_area": null,
            "grid_auto_columns": null,
            "grid_auto_flow": null,
            "grid_auto_rows": null,
            "grid_column": null,
            "grid_gap": null,
            "grid_row": null,
            "grid_template_areas": null,
            "grid_template_columns": null,
            "grid_template_rows": null,
            "height": null,
            "justify_content": null,
            "justify_items": null,
            "left": null,
            "margin": null,
            "max_height": null,
            "max_width": null,
            "min_height": null,
            "min_width": null,
            "object_fit": null,
            "object_position": null,
            "order": null,
            "overflow": null,
            "overflow_x": null,
            "overflow_y": null,
            "padding": null,
            "right": null,
            "top": null,
            "visibility": null,
            "width": null
          }
        },
        "923d3646314c40148e9a8f47f623a746": {
          "model_module": "@jupyter-widgets/base",
          "model_name": "LayoutModel",
          "model_module_version": "1.2.0",
          "state": {
            "_model_module": "@jupyter-widgets/base",
            "_model_module_version": "1.2.0",
            "_model_name": "LayoutModel",
            "_view_count": null,
            "_view_module": "@jupyter-widgets/base",
            "_view_module_version": "1.2.0",
            "_view_name": "LayoutView",
            "align_content": null,
            "align_items": null,
            "align_self": null,
            "border": null,
            "bottom": null,
            "display": null,
            "flex": null,
            "flex_flow": null,
            "grid_area": null,
            "grid_auto_columns": null,
            "grid_auto_flow": null,
            "grid_auto_rows": null,
            "grid_column": null,
            "grid_gap": null,
            "grid_row": null,
            "grid_template_areas": null,
            "grid_template_columns": null,
            "grid_template_rows": null,
            "height": null,
            "justify_content": null,
            "justify_items": null,
            "left": null,
            "margin": null,
            "max_height": null,
            "max_width": null,
            "min_height": null,
            "min_width": null,
            "object_fit": null,
            "object_position": null,
            "order": null,
            "overflow": null,
            "overflow_x": null,
            "overflow_y": null,
            "padding": null,
            "right": null,
            "top": null,
            "visibility": null,
            "width": null
          }
        },
        "09e505d6e8b94e99b5ecfbe5a3ab3655": {
          "model_module": "@jupyter-widgets/controls",
          "model_name": "DescriptionStyleModel",
          "model_module_version": "1.5.0",
          "state": {
            "_model_module": "@jupyter-widgets/controls",
            "_model_module_version": "1.5.0",
            "_model_name": "DescriptionStyleModel",
            "_view_count": null,
            "_view_module": "@jupyter-widgets/base",
            "_view_module_version": "1.2.0",
            "_view_name": "StyleView",
            "description_width": ""
          }
        },
        "f1745c6297344ffca65342c72be2921f": {
          "model_module": "@jupyter-widgets/base",
          "model_name": "LayoutModel",
          "model_module_version": "1.2.0",
          "state": {
            "_model_module": "@jupyter-widgets/base",
            "_model_module_version": "1.2.0",
            "_model_name": "LayoutModel",
            "_view_count": null,
            "_view_module": "@jupyter-widgets/base",
            "_view_module_version": "1.2.0",
            "_view_name": "LayoutView",
            "align_content": null,
            "align_items": null,
            "align_self": null,
            "border": null,
            "bottom": null,
            "display": null,
            "flex": null,
            "flex_flow": null,
            "grid_area": null,
            "grid_auto_columns": null,
            "grid_auto_flow": null,
            "grid_auto_rows": null,
            "grid_column": null,
            "grid_gap": null,
            "grid_row": null,
            "grid_template_areas": null,
            "grid_template_columns": null,
            "grid_template_rows": null,
            "height": null,
            "justify_content": null,
            "justify_items": null,
            "left": null,
            "margin": null,
            "max_height": null,
            "max_width": null,
            "min_height": null,
            "min_width": null,
            "object_fit": null,
            "object_position": null,
            "order": null,
            "overflow": null,
            "overflow_x": null,
            "overflow_y": null,
            "padding": null,
            "right": null,
            "top": null,
            "visibility": null,
            "width": null
          }
        },
        "676e1eb051b24daeac54b0ecb96f1486": {
          "model_module": "@jupyter-widgets/controls",
          "model_name": "ProgressStyleModel",
          "model_module_version": "1.5.0",
          "state": {
            "_model_module": "@jupyter-widgets/controls",
            "_model_module_version": "1.5.0",
            "_model_name": "ProgressStyleModel",
            "_view_count": null,
            "_view_module": "@jupyter-widgets/base",
            "_view_module_version": "1.2.0",
            "_view_name": "StyleView",
            "bar_color": null,
            "description_width": ""
          }
        },
        "b95bb2be85134594945c89c372a7691a": {
          "model_module": "@jupyter-widgets/base",
          "model_name": "LayoutModel",
          "model_module_version": "1.2.0",
          "state": {
            "_model_module": "@jupyter-widgets/base",
            "_model_module_version": "1.2.0",
            "_model_name": "LayoutModel",
            "_view_count": null,
            "_view_module": "@jupyter-widgets/base",
            "_view_module_version": "1.2.0",
            "_view_name": "LayoutView",
            "align_content": null,
            "align_items": null,
            "align_self": null,
            "border": null,
            "bottom": null,
            "display": null,
            "flex": null,
            "flex_flow": null,
            "grid_area": null,
            "grid_auto_columns": null,
            "grid_auto_flow": null,
            "grid_auto_rows": null,
            "grid_column": null,
            "grid_gap": null,
            "grid_row": null,
            "grid_template_areas": null,
            "grid_template_columns": null,
            "grid_template_rows": null,
            "height": null,
            "justify_content": null,
            "justify_items": null,
            "left": null,
            "margin": null,
            "max_height": null,
            "max_width": null,
            "min_height": null,
            "min_width": null,
            "object_fit": null,
            "object_position": null,
            "order": null,
            "overflow": null,
            "overflow_x": null,
            "overflow_y": null,
            "padding": null,
            "right": null,
            "top": null,
            "visibility": null,
            "width": null
          }
        },
        "46a57bc8a7d84611a494a29d247d5abe": {
          "model_module": "@jupyter-widgets/controls",
          "model_name": "DescriptionStyleModel",
          "model_module_version": "1.5.0",
          "state": {
            "_model_module": "@jupyter-widgets/controls",
            "_model_module_version": "1.5.0",
            "_model_name": "DescriptionStyleModel",
            "_view_count": null,
            "_view_module": "@jupyter-widgets/base",
            "_view_module_version": "1.2.0",
            "_view_name": "StyleView",
            "description_width": ""
          }
        },
        "cd35ceb830564d949257f7fa6f9c717e": {
          "model_module": "@jupyter-widgets/controls",
          "model_name": "HBoxModel",
          "model_module_version": "1.5.0",
          "state": {
            "_dom_classes": [],
            "_model_module": "@jupyter-widgets/controls",
            "_model_module_version": "1.5.0",
            "_model_name": "HBoxModel",
            "_view_count": null,
            "_view_module": "@jupyter-widgets/controls",
            "_view_module_version": "1.5.0",
            "_view_name": "HBoxView",
            "box_style": "",
            "children": [
              "IPY_MODEL_170bc08fb94147abbe954a9a601558ac",
              "IPY_MODEL_26a3267d69554d498cbf061c177b8361",
              "IPY_MODEL_6154a9b337444e85b6b80f287b0e7d77"
            ],
            "layout": "IPY_MODEL_b5b20e94062b4a0994fbd7b5346109d2"
          }
        },
        "170bc08fb94147abbe954a9a601558ac": {
          "model_module": "@jupyter-widgets/controls",
          "model_name": "HTMLModel",
          "model_module_version": "1.5.0",
          "state": {
            "_dom_classes": [],
            "_model_module": "@jupyter-widgets/controls",
            "_model_module_version": "1.5.0",
            "_model_name": "HTMLModel",
            "_view_count": null,
            "_view_module": "@jupyter-widgets/controls",
            "_view_module_version": "1.5.0",
            "_view_name": "HTMLView",
            "description": "",
            "description_tooltip": null,
            "layout": "IPY_MODEL_de6c85649621498a8064343926e9c36a",
            "placeholder": "​",
            "style": "IPY_MODEL_3d53a9064ecc460f8200e8302ce3e0b2",
            "value": "model_optimized.onnx: 100%"
          }
        },
        "26a3267d69554d498cbf061c177b8361": {
          "model_module": "@jupyter-widgets/controls",
          "model_name": "FloatProgressModel",
          "model_module_version": "1.5.0",
          "state": {
            "_dom_classes": [],
            "_model_module": "@jupyter-widgets/controls",
            "_model_module_version": "1.5.0",
            "_model_name": "FloatProgressModel",
            "_view_count": null,
            "_view_module": "@jupyter-widgets/controls",
            "_view_module_version": "1.5.0",
            "_view_name": "ProgressView",
            "bar_style": "success",
            "description": "",
            "description_tooltip": null,
            "layout": "IPY_MODEL_52387448555c486db2710ff4f1446671",
            "max": 66465124,
            "min": 0,
            "orientation": "horizontal",
            "style": "IPY_MODEL_45f0022a43554ab9bc5dbcadb735ab3e",
            "value": 66465124
          }
        },
        "6154a9b337444e85b6b80f287b0e7d77": {
          "model_module": "@jupyter-widgets/controls",
          "model_name": "HTMLModel",
          "model_module_version": "1.5.0",
          "state": {
            "_dom_classes": [],
            "_model_module": "@jupyter-widgets/controls",
            "_model_module_version": "1.5.0",
            "_model_name": "HTMLModel",
            "_view_count": null,
            "_view_module": "@jupyter-widgets/controls",
            "_view_module_version": "1.5.0",
            "_view_name": "HTMLView",
            "description": "",
            "description_tooltip": null,
            "layout": "IPY_MODEL_f970d9c8a3474a2eb56c7af6391c376b",
            "placeholder": "​",
            "style": "IPY_MODEL_a6527b7ffb7045c6af50e4935d364f98",
            "value": " 66.5M/66.5M [00:06&lt;00:00, 10.5MB/s]"
          }
        },
        "b5b20e94062b4a0994fbd7b5346109d2": {
          "model_module": "@jupyter-widgets/base",
          "model_name": "LayoutModel",
          "model_module_version": "1.2.0",
          "state": {
            "_model_module": "@jupyter-widgets/base",
            "_model_module_version": "1.2.0",
            "_model_name": "LayoutModel",
            "_view_count": null,
            "_view_module": "@jupyter-widgets/base",
            "_view_module_version": "1.2.0",
            "_view_name": "LayoutView",
            "align_content": null,
            "align_items": null,
            "align_self": null,
            "border": null,
            "bottom": null,
            "display": null,
            "flex": null,
            "flex_flow": null,
            "grid_area": null,
            "grid_auto_columns": null,
            "grid_auto_flow": null,
            "grid_auto_rows": null,
            "grid_column": null,
            "grid_gap": null,
            "grid_row": null,
            "grid_template_areas": null,
            "grid_template_columns": null,
            "grid_template_rows": null,
            "height": null,
            "justify_content": null,
            "justify_items": null,
            "left": null,
            "margin": null,
            "max_height": null,
            "max_width": null,
            "min_height": null,
            "min_width": null,
            "object_fit": null,
            "object_position": null,
            "order": null,
            "overflow": null,
            "overflow_x": null,
            "overflow_y": null,
            "padding": null,
            "right": null,
            "top": null,
            "visibility": null,
            "width": null
          }
        },
        "de6c85649621498a8064343926e9c36a": {
          "model_module": "@jupyter-widgets/base",
          "model_name": "LayoutModel",
          "model_module_version": "1.2.0",
          "state": {
            "_model_module": "@jupyter-widgets/base",
            "_model_module_version": "1.2.0",
            "_model_name": "LayoutModel",
            "_view_count": null,
            "_view_module": "@jupyter-widgets/base",
            "_view_module_version": "1.2.0",
            "_view_name": "LayoutView",
            "align_content": null,
            "align_items": null,
            "align_self": null,
            "border": null,
            "bottom": null,
            "display": null,
            "flex": null,
            "flex_flow": null,
            "grid_area": null,
            "grid_auto_columns": null,
            "grid_auto_flow": null,
            "grid_auto_rows": null,
            "grid_column": null,
            "grid_gap": null,
            "grid_row": null,
            "grid_template_areas": null,
            "grid_template_columns": null,
            "grid_template_rows": null,
            "height": null,
            "justify_content": null,
            "justify_items": null,
            "left": null,
            "margin": null,
            "max_height": null,
            "max_width": null,
            "min_height": null,
            "min_width": null,
            "object_fit": null,
            "object_position": null,
            "order": null,
            "overflow": null,
            "overflow_x": null,
            "overflow_y": null,
            "padding": null,
            "right": null,
            "top": null,
            "visibility": null,
            "width": null
          }
        },
        "3d53a9064ecc460f8200e8302ce3e0b2": {
          "model_module": "@jupyter-widgets/controls",
          "model_name": "DescriptionStyleModel",
          "model_module_version": "1.5.0",
          "state": {
            "_model_module": "@jupyter-widgets/controls",
            "_model_module_version": "1.5.0",
            "_model_name": "DescriptionStyleModel",
            "_view_count": null,
            "_view_module": "@jupyter-widgets/base",
            "_view_module_version": "1.2.0",
            "_view_name": "StyleView",
            "description_width": ""
          }
        },
        "52387448555c486db2710ff4f1446671": {
          "model_module": "@jupyter-widgets/base",
          "model_name": "LayoutModel",
          "model_module_version": "1.2.0",
          "state": {
            "_model_module": "@jupyter-widgets/base",
            "_model_module_version": "1.2.0",
            "_model_name": "LayoutModel",
            "_view_count": null,
            "_view_module": "@jupyter-widgets/base",
            "_view_module_version": "1.2.0",
            "_view_name": "LayoutView",
            "align_content": null,
            "align_items": null,
            "align_self": null,
            "border": null,
            "bottom": null,
            "display": null,
            "flex": null,
            "flex_flow": null,
            "grid_area": null,
            "grid_auto_columns": null,
            "grid_auto_flow": null,
            "grid_auto_rows": null,
            "grid_column": null,
            "grid_gap": null,
            "grid_row": null,
            "grid_template_areas": null,
            "grid_template_columns": null,
            "grid_template_rows": null,
            "height": null,
            "justify_content": null,
            "justify_items": null,
            "left": null,
            "margin": null,
            "max_height": null,
            "max_width": null,
            "min_height": null,
            "min_width": null,
            "object_fit": null,
            "object_position": null,
            "order": null,
            "overflow": null,
            "overflow_x": null,
            "overflow_y": null,
            "padding": null,
            "right": null,
            "top": null,
            "visibility": null,
            "width": null
          }
        },
        "45f0022a43554ab9bc5dbcadb735ab3e": {
          "model_module": "@jupyter-widgets/controls",
          "model_name": "ProgressStyleModel",
          "model_module_version": "1.5.0",
          "state": {
            "_model_module": "@jupyter-widgets/controls",
            "_model_module_version": "1.5.0",
            "_model_name": "ProgressStyleModel",
            "_view_count": null,
            "_view_module": "@jupyter-widgets/base",
            "_view_module_version": "1.2.0",
            "_view_name": "StyleView",
            "bar_color": null,
            "description_width": ""
          }
        },
        "f970d9c8a3474a2eb56c7af6391c376b": {
          "model_module": "@jupyter-widgets/base",
          "model_name": "LayoutModel",
          "model_module_version": "1.2.0",
          "state": {
            "_model_module": "@jupyter-widgets/base",
            "_model_module_version": "1.2.0",
            "_model_name": "LayoutModel",
            "_view_count": null,
            "_view_module": "@jupyter-widgets/base",
            "_view_module_version": "1.2.0",
            "_view_name": "LayoutView",
            "align_content": null,
            "align_items": null,
            "align_self": null,
            "border": null,
            "bottom": null,
            "display": null,
            "flex": null,
            "flex_flow": null,
            "grid_area": null,
            "grid_auto_columns": null,
            "grid_auto_flow": null,
            "grid_auto_rows": null,
            "grid_column": null,
            "grid_gap": null,
            "grid_row": null,
            "grid_template_areas": null,
            "grid_template_columns": null,
            "grid_template_rows": null,
            "height": null,
            "justify_content": null,
            "justify_items": null,
            "left": null,
            "margin": null,
            "max_height": null,
            "max_width": null,
            "min_height": null,
            "min_width": null,
            "object_fit": null,
            "object_position": null,
            "order": null,
            "overflow": null,
            "overflow_x": null,
            "overflow_y": null,
            "padding": null,
            "right": null,
            "top": null,
            "visibility": null,
            "width": null
          }
        },
        "a6527b7ffb7045c6af50e4935d364f98": {
          "model_module": "@jupyter-widgets/controls",
          "model_name": "DescriptionStyleModel",
          "model_module_version": "1.5.0",
          "state": {
            "_model_module": "@jupyter-widgets/controls",
            "_model_module_version": "1.5.0",
            "_model_name": "DescriptionStyleModel",
            "_view_count": null,
            "_view_module": "@jupyter-widgets/base",
            "_view_module_version": "1.2.0",
            "_view_name": "StyleView",
            "description_width": ""
          }
        },
        "0b4bc667dce443bbad4d5c9a31e4c4aa": {
          "model_module": "@jupyter-widgets/controls",
          "model_name": "HBoxModel",
          "model_module_version": "1.5.0",
          "state": {
            "_dom_classes": [],
            "_model_module": "@jupyter-widgets/controls",
            "_model_module_version": "1.5.0",
            "_model_name": "HBoxModel",
            "_view_count": null,
            "_view_module": "@jupyter-widgets/controls",
            "_view_module_version": "1.5.0",
            "_view_name": "HBoxView",
            "box_style": "",
            "children": [
              "IPY_MODEL_93c882fea83240a18f977e6091a43ba4",
              "IPY_MODEL_91b79eb7d5f14c748f6272307af230d1",
              "IPY_MODEL_79d9ce3ed96b4cbf8df3ef9f16bd95cb"
            ],
            "layout": "IPY_MODEL_5e67877e61484abf9d58b4df1f046383"
          }
        },
        "93c882fea83240a18f977e6091a43ba4": {
          "model_module": "@jupyter-widgets/controls",
          "model_name": "HTMLModel",
          "model_module_version": "1.5.0",
          "state": {
            "_dom_classes": [],
            "_model_module": "@jupyter-widgets/controls",
            "_model_module_version": "1.5.0",
            "_model_name": "HTMLModel",
            "_view_count": null,
            "_view_module": "@jupyter-widgets/controls",
            "_view_module_version": "1.5.0",
            "_view_name": "HTMLView",
            "description": "",
            "description_tooltip": null,
            "layout": "IPY_MODEL_e0a5ba5c5afc49b0b0028257b98ff90e",
            "placeholder": "​",
            "style": "IPY_MODEL_9fd4dcdff5974e77a5a428085aefab3e",
            "value": "tokenizer_config.json: 100%"
          }
        },
        "91b79eb7d5f14c748f6272307af230d1": {
          "model_module": "@jupyter-widgets/controls",
          "model_name": "FloatProgressModel",
          "model_module_version": "1.5.0",
          "state": {
            "_dom_classes": [],
            "_model_module": "@jupyter-widgets/controls",
            "_model_module_version": "1.5.0",
            "_model_name": "FloatProgressModel",
            "_view_count": null,
            "_view_module": "@jupyter-widgets/controls",
            "_view_module_version": "1.5.0",
            "_view_name": "ProgressView",
            "bar_style": "success",
            "description": "",
            "description_tooltip": null,
            "layout": "IPY_MODEL_27cde700d46644c3a31857c3051b1635",
            "max": 1242,
            "min": 0,
            "orientation": "horizontal",
            "style": "IPY_MODEL_aec4b38ba95c4ed1839141b0891a569d",
            "value": 1242
          }
        },
        "79d9ce3ed96b4cbf8df3ef9f16bd95cb": {
          "model_module": "@jupyter-widgets/controls",
          "model_name": "HTMLModel",
          "model_module_version": "1.5.0",
          "state": {
            "_dom_classes": [],
            "_model_module": "@jupyter-widgets/controls",
            "_model_module_version": "1.5.0",
            "_model_name": "HTMLModel",
            "_view_count": null,
            "_view_module": "@jupyter-widgets/controls",
            "_view_module_version": "1.5.0",
            "_view_name": "HTMLView",
            "description": "",
            "description_tooltip": null,
            "layout": "IPY_MODEL_1e4f25f7a5344cc7aac880526a67699f",
            "placeholder": "​",
            "style": "IPY_MODEL_65b564bcaca5428db252441cb9006f75",
            "value": " 1.24k/1.24k [00:00&lt;00:00, 17.0kB/s]"
          }
        },
        "5e67877e61484abf9d58b4df1f046383": {
          "model_module": "@jupyter-widgets/base",
          "model_name": "LayoutModel",
          "model_module_version": "1.2.0",
          "state": {
            "_model_module": "@jupyter-widgets/base",
            "_model_module_version": "1.2.0",
            "_model_name": "LayoutModel",
            "_view_count": null,
            "_view_module": "@jupyter-widgets/base",
            "_view_module_version": "1.2.0",
            "_view_name": "LayoutView",
            "align_content": null,
            "align_items": null,
            "align_self": null,
            "border": null,
            "bottom": null,
            "display": null,
            "flex": null,
            "flex_flow": null,
            "grid_area": null,
            "grid_auto_columns": null,
            "grid_auto_flow": null,
            "grid_auto_rows": null,
            "grid_column": null,
            "grid_gap": null,
            "grid_row": null,
            "grid_template_areas": null,
            "grid_template_columns": null,
            "grid_template_rows": null,
            "height": null,
            "justify_content": null,
            "justify_items": null,
            "left": null,
            "margin": null,
            "max_height": null,
            "max_width": null,
            "min_height": null,
            "min_width": null,
            "object_fit": null,
            "object_position": null,
            "order": null,
            "overflow": null,
            "overflow_x": null,
            "overflow_y": null,
            "padding": null,
            "right": null,
            "top": null,
            "visibility": null,
            "width": null
          }
        },
        "e0a5ba5c5afc49b0b0028257b98ff90e": {
          "model_module": "@jupyter-widgets/base",
          "model_name": "LayoutModel",
          "model_module_version": "1.2.0",
          "state": {
            "_model_module": "@jupyter-widgets/base",
            "_model_module_version": "1.2.0",
            "_model_name": "LayoutModel",
            "_view_count": null,
            "_view_module": "@jupyter-widgets/base",
            "_view_module_version": "1.2.0",
            "_view_name": "LayoutView",
            "align_content": null,
            "align_items": null,
            "align_self": null,
            "border": null,
            "bottom": null,
            "display": null,
            "flex": null,
            "flex_flow": null,
            "grid_area": null,
            "grid_auto_columns": null,
            "grid_auto_flow": null,
            "grid_auto_rows": null,
            "grid_column": null,
            "grid_gap": null,
            "grid_row": null,
            "grid_template_areas": null,
            "grid_template_columns": null,
            "grid_template_rows": null,
            "height": null,
            "justify_content": null,
            "justify_items": null,
            "left": null,
            "margin": null,
            "max_height": null,
            "max_width": null,
            "min_height": null,
            "min_width": null,
            "object_fit": null,
            "object_position": null,
            "order": null,
            "overflow": null,
            "overflow_x": null,
            "overflow_y": null,
            "padding": null,
            "right": null,
            "top": null,
            "visibility": null,
            "width": null
          }
        },
        "9fd4dcdff5974e77a5a428085aefab3e": {
          "model_module": "@jupyter-widgets/controls",
          "model_name": "DescriptionStyleModel",
          "model_module_version": "1.5.0",
          "state": {
            "_model_module": "@jupyter-widgets/controls",
            "_model_module_version": "1.5.0",
            "_model_name": "DescriptionStyleModel",
            "_view_count": null,
            "_view_module": "@jupyter-widgets/base",
            "_view_module_version": "1.2.0",
            "_view_name": "StyleView",
            "description_width": ""
          }
        },
        "27cde700d46644c3a31857c3051b1635": {
          "model_module": "@jupyter-widgets/base",
          "model_name": "LayoutModel",
          "model_module_version": "1.2.0",
          "state": {
            "_model_module": "@jupyter-widgets/base",
            "_model_module_version": "1.2.0",
            "_model_name": "LayoutModel",
            "_view_count": null,
            "_view_module": "@jupyter-widgets/base",
            "_view_module_version": "1.2.0",
            "_view_name": "LayoutView",
            "align_content": null,
            "align_items": null,
            "align_self": null,
            "border": null,
            "bottom": null,
            "display": null,
            "flex": null,
            "flex_flow": null,
            "grid_area": null,
            "grid_auto_columns": null,
            "grid_auto_flow": null,
            "grid_auto_rows": null,
            "grid_column": null,
            "grid_gap": null,
            "grid_row": null,
            "grid_template_areas": null,
            "grid_template_columns": null,
            "grid_template_rows": null,
            "height": null,
            "justify_content": null,
            "justify_items": null,
            "left": null,
            "margin": null,
            "max_height": null,
            "max_width": null,
            "min_height": null,
            "min_width": null,
            "object_fit": null,
            "object_position": null,
            "order": null,
            "overflow": null,
            "overflow_x": null,
            "overflow_y": null,
            "padding": null,
            "right": null,
            "top": null,
            "visibility": null,
            "width": null
          }
        },
        "aec4b38ba95c4ed1839141b0891a569d": {
          "model_module": "@jupyter-widgets/controls",
          "model_name": "ProgressStyleModel",
          "model_module_version": "1.5.0",
          "state": {
            "_model_module": "@jupyter-widgets/controls",
            "_model_module_version": "1.5.0",
            "_model_name": "ProgressStyleModel",
            "_view_count": null,
            "_view_module": "@jupyter-widgets/base",
            "_view_module_version": "1.2.0",
            "_view_name": "StyleView",
            "bar_color": null,
            "description_width": ""
          }
        },
        "1e4f25f7a5344cc7aac880526a67699f": {
          "model_module": "@jupyter-widgets/base",
          "model_name": "LayoutModel",
          "model_module_version": "1.2.0",
          "state": {
            "_model_module": "@jupyter-widgets/base",
            "_model_module_version": "1.2.0",
            "_model_name": "LayoutModel",
            "_view_count": null,
            "_view_module": "@jupyter-widgets/base",
            "_view_module_version": "1.2.0",
            "_view_name": "LayoutView",
            "align_content": null,
            "align_items": null,
            "align_self": null,
            "border": null,
            "bottom": null,
            "display": null,
            "flex": null,
            "flex_flow": null,
            "grid_area": null,
            "grid_auto_columns": null,
            "grid_auto_flow": null,
            "grid_auto_rows": null,
            "grid_column": null,
            "grid_gap": null,
            "grid_row": null,
            "grid_template_areas": null,
            "grid_template_columns": null,
            "grid_template_rows": null,
            "height": null,
            "justify_content": null,
            "justify_items": null,
            "left": null,
            "margin": null,
            "max_height": null,
            "max_width": null,
            "min_height": null,
            "min_width": null,
            "object_fit": null,
            "object_position": null,
            "order": null,
            "overflow": null,
            "overflow_x": null,
            "overflow_y": null,
            "padding": null,
            "right": null,
            "top": null,
            "visibility": null,
            "width": null
          }
        },
        "65b564bcaca5428db252441cb9006f75": {
          "model_module": "@jupyter-widgets/controls",
          "model_name": "DescriptionStyleModel",
          "model_module_version": "1.5.0",
          "state": {
            "_model_module": "@jupyter-widgets/controls",
            "_model_module_version": "1.5.0",
            "_model_name": "DescriptionStyleModel",
            "_view_count": null,
            "_view_module": "@jupyter-widgets/base",
            "_view_module_version": "1.2.0",
            "_view_name": "StyleView",
            "description_width": ""
          }
        },
        "8efcb9bda59f4a7faf6ebd02a0e0053d": {
          "model_module": "@jupyter-widgets/controls",
          "model_name": "HBoxModel",
          "model_module_version": "1.5.0",
          "state": {
            "_dom_classes": [],
            "_model_module": "@jupyter-widgets/controls",
            "_model_module_version": "1.5.0",
            "_model_name": "HBoxModel",
            "_view_count": null,
            "_view_module": "@jupyter-widgets/controls",
            "_view_module_version": "1.5.0",
            "_view_name": "HBoxView",
            "box_style": "",
            "children": [
              "IPY_MODEL_dcaa0049a4bd4a7a9f41d3e485ddff41",
              "IPY_MODEL_3eac6446852f4d839e5f59a53bfa455e",
              "IPY_MODEL_701aa947d0854406a9481be81d13b334"
            ],
            "layout": "IPY_MODEL_ddda3a3d07da4151a1a2eccbb545b2c5"
          }
        },
        "dcaa0049a4bd4a7a9f41d3e485ddff41": {
          "model_module": "@jupyter-widgets/controls",
          "model_name": "HTMLModel",
          "model_module_version": "1.5.0",
          "state": {
            "_dom_classes": [],
            "_model_module": "@jupyter-widgets/controls",
            "_model_module_version": "1.5.0",
            "_model_name": "HTMLModel",
            "_view_count": null,
            "_view_module": "@jupyter-widgets/controls",
            "_view_module_version": "1.5.0",
            "_view_name": "HTMLView",
            "description": "",
            "description_tooltip": null,
            "layout": "IPY_MODEL_4c55f5ad10014b1db7c37c810bbc33a2",
            "placeholder": "​",
            "style": "IPY_MODEL_d092d84e4c88419ba1050149fdb14776",
            "value": "tokenizer.json: 100%"
          }
        },
        "3eac6446852f4d839e5f59a53bfa455e": {
          "model_module": "@jupyter-widgets/controls",
          "model_name": "FloatProgressModel",
          "model_module_version": "1.5.0",
          "state": {
            "_dom_classes": [],
            "_model_module": "@jupyter-widgets/controls",
            "_model_module_version": "1.5.0",
            "_model_name": "FloatProgressModel",
            "_view_count": null,
            "_view_module": "@jupyter-widgets/controls",
            "_view_module_version": "1.5.0",
            "_view_name": "ProgressView",
            "bar_style": "success",
            "description": "",
            "description_tooltip": null,
            "layout": "IPY_MODEL_95926268b1f4488a94e63124caf25f73",
            "max": 711396,
            "min": 0,
            "orientation": "horizontal",
            "style": "IPY_MODEL_59a5b8c87c644497a7d823c86466a782",
            "value": 711396
          }
        },
        "701aa947d0854406a9481be81d13b334": {
          "model_module": "@jupyter-widgets/controls",
          "model_name": "HTMLModel",
          "model_module_version": "1.5.0",
          "state": {
            "_dom_classes": [],
            "_model_module": "@jupyter-widgets/controls",
            "_model_module_version": "1.5.0",
            "_model_name": "HTMLModel",
            "_view_count": null,
            "_view_module": "@jupyter-widgets/controls",
            "_view_module_version": "1.5.0",
            "_view_name": "HTMLView",
            "description": "",
            "description_tooltip": null,
            "layout": "IPY_MODEL_0abcbced23344961be657f6b8822fcf7",
            "placeholder": "​",
            "style": "IPY_MODEL_69cb9a5bde194b58b796c344eb6357d6",
            "value": " 711k/711k [00:00&lt;00:00, 9.13MB/s]"
          }
        },
        "ddda3a3d07da4151a1a2eccbb545b2c5": {
          "model_module": "@jupyter-widgets/base",
          "model_name": "LayoutModel",
          "model_module_version": "1.2.0",
          "state": {
            "_model_module": "@jupyter-widgets/base",
            "_model_module_version": "1.2.0",
            "_model_name": "LayoutModel",
            "_view_count": null,
            "_view_module": "@jupyter-widgets/base",
            "_view_module_version": "1.2.0",
            "_view_name": "LayoutView",
            "align_content": null,
            "align_items": null,
            "align_self": null,
            "border": null,
            "bottom": null,
            "display": null,
            "flex": null,
            "flex_flow": null,
            "grid_area": null,
            "grid_auto_columns": null,
            "grid_auto_flow": null,
            "grid_auto_rows": null,
            "grid_column": null,
            "grid_gap": null,
            "grid_row": null,
            "grid_template_areas": null,
            "grid_template_columns": null,
            "grid_template_rows": null,
            "height": null,
            "justify_content": null,
            "justify_items": null,
            "left": null,
            "margin": null,
            "max_height": null,
            "max_width": null,
            "min_height": null,
            "min_width": null,
            "object_fit": null,
            "object_position": null,
            "order": null,
            "overflow": null,
            "overflow_x": null,
            "overflow_y": null,
            "padding": null,
            "right": null,
            "top": null,
            "visibility": null,
            "width": null
          }
        },
        "4c55f5ad10014b1db7c37c810bbc33a2": {
          "model_module": "@jupyter-widgets/base",
          "model_name": "LayoutModel",
          "model_module_version": "1.2.0",
          "state": {
            "_model_module": "@jupyter-widgets/base",
            "_model_module_version": "1.2.0",
            "_model_name": "LayoutModel",
            "_view_count": null,
            "_view_module": "@jupyter-widgets/base",
            "_view_module_version": "1.2.0",
            "_view_name": "LayoutView",
            "align_content": null,
            "align_items": null,
            "align_self": null,
            "border": null,
            "bottom": null,
            "display": null,
            "flex": null,
            "flex_flow": null,
            "grid_area": null,
            "grid_auto_columns": null,
            "grid_auto_flow": null,
            "grid_auto_rows": null,
            "grid_column": null,
            "grid_gap": null,
            "grid_row": null,
            "grid_template_areas": null,
            "grid_template_columns": null,
            "grid_template_rows": null,
            "height": null,
            "justify_content": null,
            "justify_items": null,
            "left": null,
            "margin": null,
            "max_height": null,
            "max_width": null,
            "min_height": null,
            "min_width": null,
            "object_fit": null,
            "object_position": null,
            "order": null,
            "overflow": null,
            "overflow_x": null,
            "overflow_y": null,
            "padding": null,
            "right": null,
            "top": null,
            "visibility": null,
            "width": null
          }
        },
        "d092d84e4c88419ba1050149fdb14776": {
          "model_module": "@jupyter-widgets/controls",
          "model_name": "DescriptionStyleModel",
          "model_module_version": "1.5.0",
          "state": {
            "_model_module": "@jupyter-widgets/controls",
            "_model_module_version": "1.5.0",
            "_model_name": "DescriptionStyleModel",
            "_view_count": null,
            "_view_module": "@jupyter-widgets/base",
            "_view_module_version": "1.2.0",
            "_view_name": "StyleView",
            "description_width": ""
          }
        },
        "95926268b1f4488a94e63124caf25f73": {
          "model_module": "@jupyter-widgets/base",
          "model_name": "LayoutModel",
          "model_module_version": "1.2.0",
          "state": {
            "_model_module": "@jupyter-widgets/base",
            "_model_module_version": "1.2.0",
            "_model_name": "LayoutModel",
            "_view_count": null,
            "_view_module": "@jupyter-widgets/base",
            "_view_module_version": "1.2.0",
            "_view_name": "LayoutView",
            "align_content": null,
            "align_items": null,
            "align_self": null,
            "border": null,
            "bottom": null,
            "display": null,
            "flex": null,
            "flex_flow": null,
            "grid_area": null,
            "grid_auto_columns": null,
            "grid_auto_flow": null,
            "grid_auto_rows": null,
            "grid_column": null,
            "grid_gap": null,
            "grid_row": null,
            "grid_template_areas": null,
            "grid_template_columns": null,
            "grid_template_rows": null,
            "height": null,
            "justify_content": null,
            "justify_items": null,
            "left": null,
            "margin": null,
            "max_height": null,
            "max_width": null,
            "min_height": null,
            "min_width": null,
            "object_fit": null,
            "object_position": null,
            "order": null,
            "overflow": null,
            "overflow_x": null,
            "overflow_y": null,
            "padding": null,
            "right": null,
            "top": null,
            "visibility": null,
            "width": null
          }
        },
        "59a5b8c87c644497a7d823c86466a782": {
          "model_module": "@jupyter-widgets/controls",
          "model_name": "ProgressStyleModel",
          "model_module_version": "1.5.0",
          "state": {
            "_model_module": "@jupyter-widgets/controls",
            "_model_module_version": "1.5.0",
            "_model_name": "ProgressStyleModel",
            "_view_count": null,
            "_view_module": "@jupyter-widgets/base",
            "_view_module_version": "1.2.0",
            "_view_name": "StyleView",
            "bar_color": null,
            "description_width": ""
          }
        },
        "0abcbced23344961be657f6b8822fcf7": {
          "model_module": "@jupyter-widgets/base",
          "model_name": "LayoutModel",
          "model_module_version": "1.2.0",
          "state": {
            "_model_module": "@jupyter-widgets/base",
            "_model_module_version": "1.2.0",
            "_model_name": "LayoutModel",
            "_view_count": null,
            "_view_module": "@jupyter-widgets/base",
            "_view_module_version": "1.2.0",
            "_view_name": "LayoutView",
            "align_content": null,
            "align_items": null,
            "align_self": null,
            "border": null,
            "bottom": null,
            "display": null,
            "flex": null,
            "flex_flow": null,
            "grid_area": null,
            "grid_auto_columns": null,
            "grid_auto_flow": null,
            "grid_auto_rows": null,
            "grid_column": null,
            "grid_gap": null,
            "grid_row": null,
            "grid_template_areas": null,
            "grid_template_columns": null,
            "grid_template_rows": null,
            "height": null,
            "justify_content": null,
            "justify_items": null,
            "left": null,
            "margin": null,
            "max_height": null,
            "max_width": null,
            "min_height": null,
            "min_width": null,
            "object_fit": null,
            "object_position": null,
            "order": null,
            "overflow": null,
            "overflow_x": null,
            "overflow_y": null,
            "padding": null,
            "right": null,
            "top": null,
            "visibility": null,
            "width": null
          }
        },
        "69cb9a5bde194b58b796c344eb6357d6": {
          "model_module": "@jupyter-widgets/controls",
          "model_name": "DescriptionStyleModel",
          "model_module_version": "1.5.0",
          "state": {
            "_model_module": "@jupyter-widgets/controls",
            "_model_module_version": "1.5.0",
            "_model_name": "DescriptionStyleModel",
            "_view_count": null,
            "_view_module": "@jupyter-widgets/base",
            "_view_module_version": "1.2.0",
            "_view_name": "StyleView",
            "description_width": ""
          }
        }
      }
    }
  },
  "cells": [
    {
      "cell_type": "markdown",
      "source": [
        "# 💡 Investment FAQ Chatbot with Vector Search  \n",
        "\n",
        "This project implements an **AI-powered FAQ chatbot** for an online investment platform. The chatbot uses **vector embeddings** and **semantic search** to find the most relevant answers to user queries based on a stored knowledge base of frequently asked questions.  \n",
        "\n",
        "## ✨ Key Features  \n",
        "- **SQLite Database with Vector Search**: Stores FAQ data and performs similarity-based retrieval using embeddings.  \n",
        "- **Text Embeddings**: Converts questions into numerical vectors for efficient comparison.  \n",
        "- **Retrieval-Augmented Generation (RAG)**: Finds relevant information before answering user queries.  \n",
        "- **LLM-powered Responses**: Uses `Groq`’s `llama-3.3-70b-versatile` model to generate precise and context-aware answers.  \n",
        "\n",
        "## 📌 How It Works  \n",
        "1. **Store FAQs in a Database**: The knowledge base is stored in an SQLite table.  \n",
        "2. **Generate & Store Embeddings**: Each FAQ is embedded into a vector representation.  \n",
        "3. **Search for Relevant Answers**: When a user asks a question, the system finds the most similar stored questions.  \n",
        "4. **Generate AI Response**: A structured prompt is sent to the language model, ensuring that responses are based only on available data.  \n",
        "\n",
        "## 🚀 Use Case  \n",
        "This chatbot is ideal for **automated customer support** in financial services, providing **accurate and instant answers** to investment-related queries.  \n",
        "\n",
        "Run the following cells to set up the environment and start querying the chatbot! 🎯\n"
      ],
      "metadata": {
        "id": "ys-8B7wWo-Ux"
      }
    },
    {
      "cell_type": "markdown",
      "source": [
        "###1. Check if it is possible to use GPU to accelerate task:"
      ],
      "metadata": {
        "id": "O-gqFT3EbpBd"
      }
    },
    {
      "cell_type": "code",
      "execution_count": 1,
      "metadata": {
        "colab": {
          "base_uri": "https://localhost:8080/"
        },
        "id": "wY4A72Ayvi0w",
        "outputId": "baf0e8c0-f986-4e60-e83a-fb61624b9db1"
      },
      "outputs": [
        {
          "output_type": "stream",
          "name": "stdout",
          "text": [
            "/bin/bash: line 1: nvidia-smi: command not found\n"
          ]
        }
      ],
      "source": [
        "!nvidia-smi"
      ]
    },
    {
      "cell_type": "markdown",
      "source": [
        "###2. Install the relevant packages:"
      ],
      "metadata": {
        "id": "-6-G9FvSb2T6"
      }
    },
    {
      "cell_type": "code",
      "source": [
        "!pip install -Uqqq pip --progress-bar off\n",
        "!pip install -qqq fastembed==0.3.4 --progress-bar off\n",
        "!pip install -qqq sqlite-vec==0.1.1 --progress-bar off\n",
        "!pip install -qqq groq --progress-bar off\n",
        "!pip install -qqq --upgrade httpx\n",
        "!pip install --upgrade groq"
      ],
      "metadata": {
        "colab": {
          "base_uri": "https://localhost:8080/"
        },
        "id": "ld2XBhNTv6Vz",
        "outputId": "c34833d0-f0c6-466f-c868-e2b81be5d8d3"
      },
      "execution_count": 2,
      "outputs": [
        {
          "output_type": "stream",
          "name": "stdout",
          "text": [
            "Requirement already satisfied: groq in /usr/local/lib/python3.11/dist-packages (0.18.0)\n",
            "Requirement already satisfied: anyio<5,>=3.5.0 in /usr/local/lib/python3.11/dist-packages (from groq) (3.7.1)\n",
            "Requirement already satisfied: distro<2,>=1.7.0 in /usr/local/lib/python3.11/dist-packages (from groq) (1.9.0)\n",
            "Requirement already satisfied: httpx<1,>=0.23.0 in /usr/local/lib/python3.11/dist-packages (from groq) (0.28.1)\n",
            "Requirement already satisfied: pydantic<3,>=1.9.0 in /usr/local/lib/python3.11/dist-packages (from groq) (2.10.6)\n",
            "Requirement already satisfied: sniffio in /usr/local/lib/python3.11/dist-packages (from groq) (1.3.1)\n",
            "Requirement already satisfied: typing-extensions<5,>=4.10 in /usr/local/lib/python3.11/dist-packages (from groq) (4.12.2)\n",
            "Requirement already satisfied: idna>=2.8 in /usr/local/lib/python3.11/dist-packages (from anyio<5,>=3.5.0->groq) (3.10)\n",
            "Requirement already satisfied: certifi in /usr/local/lib/python3.11/dist-packages (from httpx<1,>=0.23.0->groq) (2025.1.31)\n",
            "Requirement already satisfied: httpcore==1.* in /usr/local/lib/python3.11/dist-packages (from httpx<1,>=0.23.0->groq) (1.0.7)\n",
            "Requirement already satisfied: h11<0.15,>=0.13 in /usr/local/lib/python3.11/dist-packages (from httpcore==1.*->httpx<1,>=0.23.0->groq) (0.14.0)\n",
            "Requirement already satisfied: annotated-types>=0.6.0 in /usr/local/lib/python3.11/dist-packages (from pydantic<3,>=1.9.0->groq) (0.7.0)\n",
            "Requirement already satisfied: pydantic-core==2.27.2 in /usr/local/lib/python3.11/dist-packages (from pydantic<3,>=1.9.0->groq) (2.27.2)\n"
          ]
        }
      ]
    },
    {
      "cell_type": "markdown",
      "source": [
        "###3. Import relevant libraries:\n",
        "SQLite library: handle database operations\n",
        "\n",
        "dedent: remove leading whitespace from multi-line strings\n",
        "\n",
        "List: type hinting\n",
        "\n",
        "sqlite_vec: to enable vector search in SQLite\n",
        "\n",
        "fastembed's TextEmbedding: text vectorization\n",
        "\n",
        "userdata: retrieve user-specific data (API keys)\n",
        "\n",
        "groq: interacting with the Groq API\n",
        "\n",
        "Groq client: for API requests\n",
        "\n",
        "Import ChatCompletionMessage type\n",
        "\n",
        "serialize_float32: serialization function for float32 embeddings"
      ],
      "metadata": {
        "id": "gTfprG2OcLYW"
      }
    },
    {
      "cell_type": "code",
      "source": [
        "import sqlite3\n",
        "from textwrap import dedent\n",
        "from typing import List\n",
        "\n",
        "import sqlite_vec\n",
        "from fastembed import TextEmbedding\n",
        "from google.colab import userdata\n",
        "import groq\n",
        "from groq import Groq\n",
        "from groq.types.chat import ChatCompletionMessage\n",
        "from sqlite_vec import serialize_float32"
      ],
      "metadata": {
        "id": "g5QniJ61cKeg"
      },
      "execution_count": 3,
      "outputs": []
    },
    {
      "cell_type": "markdown",
      "source": [
        "###4. Connect to SQLite database named 'faq.sqlite3'\n",
        "Enable loading of SQLite extensions\n",
        "\n",
        "Load the sqlite_vec extension for vector operations\n",
        "\n",
        "Disable further loading of extensions for security\n",
        "\n",
        "###5. Set up the LLM using Groq\n",
        "Retrieve Groq API key from Colab's user data\n",
        "\n",
        "Initialize Groq API client with the retrieved API key\n",
        "\n",
        "Define model settings for LLM, model name, 0 for deterministic response, max token limit"
      ],
      "metadata": {
        "id": "jqmMt4YndfBY"
      }
    },
    {
      "cell_type": "code",
      "source": [
        "db = sqlite3.connect(\"faq.sqlite3\")\n",
        "db.enable_load_extension(True)\n",
        "sqlite_vec.load(db)\n",
        "db.enable_load_extension(False)\n",
        "\n",
        "groq_api_key = userdata.get('GROQ_API_KEY')\n",
        "\n",
        "client = Groq(api_key=groq_api_key)\n",
        "MODEL = \"llama-3.3-70b-versatile\"\n",
        "TEMPERATURE = 0\n",
        "MAX_TOKENS = 4096\n",
        "\n"
      ],
      "metadata": {
        "id": "AIvHNPO2yQDX"
      },
      "execution_count": 5,
      "outputs": []
    },
    {
      "cell_type": "markdown",
      "source": [
        "###6. Load SQL extension in Google Colab Notebook\n",
        "Connect to SQLite database within Jupyter"
      ],
      "metadata": {
        "id": "jiuUX8SreSzT"
      }
    },
    {
      "cell_type": "code",
      "source": [
        "%load_ext sql\n",
        "%sql sqlite:///faq.sqlite3"
      ],
      "metadata": {
        "id": "PSmz8PFPyar1"
      },
      "execution_count": 6,
      "outputs": []
    },
    {
      "cell_type": "markdown",
      "source": [
        "###7. Define a list of FAQs (knowledge base)"
      ],
      "metadata": {
        "id": "3E3dVH2VeiAM"
      }
    },
    {
      "cell_type": "code",
      "source": [
        "KNOWLEDGE_BASE = [\n",
        "    {\n",
        "        \"question\": \"What types of investment accounts do you offer?\",\n",
        "        \"answer\": \"We offer a range of investment accounts including individual brokerage accounts, retirement accounts (IRA, Roth IRA), and managed portfolios. Each account type is designed to meet different financial goals and risk tolerances.\",\n",
        "    },\n",
        "    {\n",
        "        \"question\": \"What are your fees for trading stocks?\",\n",
        "        \"answer\": \"We offer commission-free trading for stocks and ETFs. However, options trading and other advanced trading features may have associated fees. Please refer to our fee schedule for full details.\",\n",
        "    },\n",
        "    {\n",
        "        \"question\": \"Do you provide financial advisory services?\",\n",
        "        \"answer\": \"Yes, we offer both automated and human advisory services. Our robo-advisory platform provides algorithm-driven investment strategies, while our certified financial advisors offer personalized financial planning.\",\n",
        "    },\n",
        "    {\n",
        "        \"question\": \"How do I open an account?\",\n",
        "        \"answer\": \"You can open an account online by providing your personal details, financial information, and identity verification documents. The process typically takes a few minutes, and you can start investing once your account is approved.\",\n",
        "    },\n",
        "    {\n",
        "        \"question\": \"Is my money insured?\",\n",
        "        \"answer\": \"Yes, cash balances in your investment account are insured by the FDIC up to applicable limits when held in a partner bank. Securities are protected by SIPC up to $500,000, including $250,000 for cash claims.\",\n",
        "    },\n",
        "    {\n",
        "        \"question\": \"What investment options do you offer?\",\n",
        "        \"answer\": \"We provide a variety of investment options including stocks, bonds, ETFs, mutual funds, and alternative assets. Our platform supports both self-directed investing and automated portfolio management.\",\n",
        "    },\n",
        "    {\n",
        "        \"question\": \"How can I deposit or withdraw funds?\",\n",
        "        \"answer\": \"You can deposit funds via bank transfer, wire transfer, or mobile check deposit. Withdrawals can be requested through bank transfer or wire transfer, with processing times varying depending on the method chosen.\",\n",
        "    },\n",
        "    {\n",
        "        \"question\": \"Do you offer retirement planning services?\",\n",
        "        \"answer\": \"Yes, we provide retirement planning tools and expert guidance to help you build a solid financial future. Our advisors can assist with IRA rollovers, 401(k) transfers, and retirement income strategies.\",\n",
        "    },\n",
        "    {\n",
        "        \"question\": \"How do I track my investments?\",\n",
        "        \"answer\": \"You can track your portfolio performance through our mobile app or website. We provide real-time updates, detailed analytics, and personalized insights to help you monitor your investments.\",\n",
        "    },\n",
        "    {\n",
        "        \"question\": \"What security measures do you have in place?\",\n",
        "        \"answer\": \"We use state-of-the-art security measures including two-factor authentication, encryption, and fraud monitoring to protect your account and personal information.\",\n",
        "    },\n",
        "    {\n",
        "        \"question\": \"Do you offer tax-advantaged investment options?\",\n",
        "        \"answer\": \"Yes, we offer tax-advantaged accounts such as IRAs and 529 college savings plans. Additionally, we provide tax-loss harvesting strategies to help minimize taxable gains.\",\n",
        "    },\n",
        "    {\n",
        "        \"question\": \"Can I invest in cryptocurrencies?\",\n",
        "        \"answer\": \"Yes, we provide access to cryptocurrency investments through select funds, ETFs, and direct crypto trading on our platform. Please note that cryptocurrency investments come with higher risks and volatility.\",\n",
        "    },\n",
        "]\n"
      ],
      "metadata": {
        "id": "ZzUcR2eg3zrm"
      },
      "execution_count": 7,
      "outputs": []
    },
    {
      "cell_type": "markdown",
      "source": [
        "###8. Create 'documents' table to store FAQs in SQLite"
      ],
      "metadata": {
        "id": "o31DU_eQenDo"
      }
    },
    {
      "cell_type": "code",
      "source": [
        "db.execute(\n",
        "    \"\"\"\n",
        "    CREATE TABLE documents(\n",
        "        id INTEGER PRIMARY KEY,\n",
        "        question TEXT,\n",
        "        answer TEXT\n",
        "    );\n",
        "\"\"\"\n",
        ")"
      ],
      "metadata": {
        "colab": {
          "base_uri": "https://localhost:8080/"
        },
        "id": "960BSDTG33YH",
        "outputId": "2b5ab976-2f20-4950-fb4f-a42cd2867e94"
      },
      "execution_count": 8,
      "outputs": [
        {
          "output_type": "execute_result",
          "data": {
            "text/plain": [
              "<sqlite3.Cursor at 0x7b0fa13f2040>"
            ]
          },
          "metadata": {},
          "execution_count": 8
        }
      ]
    },
    {
      "cell_type": "markdown",
      "source": [
        "###9. Insert knowledge base entries into the 'documents' table"
      ],
      "metadata": {
        "id": "cIGy4Sore0Y3"
      }
    },
    {
      "cell_type": "code",
      "source": [
        "\n",
        "with db:\n",
        "    for i, doc in enumerate(KNOWLEDGE_BASE):\n",
        "        db.execute(\n",
        "            \"INSERT INTO documents(id, question, answer) VALUES(?, ?, ?)\",\n",
        "            [i, doc[\"question\"], doc[\"answer\"]],\n",
        "        )"
      ],
      "metadata": {
        "id": "SFsCWWcU4Pe-"
      },
      "execution_count": 9,
      "outputs": []
    },
    {
      "cell_type": "markdown",
      "source": [
        "###10. Initialize text embedding model"
      ],
      "metadata": {
        "id": "CLMdsyXRe5FB"
      }
    },
    {
      "cell_type": "code",
      "source": [
        "embedding_model = TextEmbedding()"
      ],
      "metadata": {
        "colab": {
          "base_uri": "https://localhost:8080/",
          "height": 313,
          "referenced_widgets": [
            "6488a83174ef40da9e916796a6950e4a",
            "78b5c074e0e6402a99d5d832824da5e5",
            "e326772a8e5444dcb4859827375f249b",
            "545d35c0730c471986dd09dd48ff9890",
            "585ebb7dc5d54a209d8805bca030219f",
            "a2663dbfe6164e41975c82ed844f4810",
            "59748bc69e6447ecb02e05da48b3a5e0",
            "c6af5bdd703742589c7bda1048bc433c",
            "9c018aa6886443bc9024bb154e1f812e",
            "c3958cd7c2b9480bbe94ebdf570a9894",
            "d7d4f4d257c34ca29febf09cf635307d",
            "47c8400995e440f5b5ba4fb8bcd9ed18",
            "b0472a939d1e4e04bc9f856f94bc219c",
            "41a65948c243442f8fbf0c24948b5b94",
            "fdccccf339b641c3a65b40fc78540d6c",
            "cbcce8f538884c4dbc3812347935fb42",
            "97c7f3e1f0b6441f9191eb2a5e9916cb",
            "7789057b47d249f39510e65cb1895066",
            "eb6b585c6c9b40c688f4b884d2cc4c7b",
            "b1784833b7df45ce9333603ef70c112d",
            "b26b92dc82204db38253d8b4609f70d1",
            "e549c9cea7904f4a848f550ae4156508",
            "45af3e9dd3e148e8b47cf79e3dd7c44c",
            "1af97683c4474ec4b07769a0d4adfdf6",
            "a7022116aa5045afa37349f7b35667a0",
            "fca04b2cd52b49f8a71aef80432bac37",
            "d91af704e4a34009926b4a3fad26862f",
            "923d3646314c40148e9a8f47f623a746",
            "09e505d6e8b94e99b5ecfbe5a3ab3655",
            "f1745c6297344ffca65342c72be2921f",
            "676e1eb051b24daeac54b0ecb96f1486",
            "b95bb2be85134594945c89c372a7691a",
            "46a57bc8a7d84611a494a29d247d5abe",
            "cd35ceb830564d949257f7fa6f9c717e",
            "170bc08fb94147abbe954a9a601558ac",
            "26a3267d69554d498cbf061c177b8361",
            "6154a9b337444e85b6b80f287b0e7d77",
            "b5b20e94062b4a0994fbd7b5346109d2",
            "de6c85649621498a8064343926e9c36a",
            "3d53a9064ecc460f8200e8302ce3e0b2",
            "52387448555c486db2710ff4f1446671",
            "45f0022a43554ab9bc5dbcadb735ab3e",
            "f970d9c8a3474a2eb56c7af6391c376b",
            "a6527b7ffb7045c6af50e4935d364f98",
            "0b4bc667dce443bbad4d5c9a31e4c4aa",
            "93c882fea83240a18f977e6091a43ba4",
            "91b79eb7d5f14c748f6272307af230d1",
            "79d9ce3ed96b4cbf8df3ef9f16bd95cb",
            "5e67877e61484abf9d58b4df1f046383",
            "e0a5ba5c5afc49b0b0028257b98ff90e",
            "9fd4dcdff5974e77a5a428085aefab3e",
            "27cde700d46644c3a31857c3051b1635",
            "aec4b38ba95c4ed1839141b0891a569d",
            "1e4f25f7a5344cc7aac880526a67699f",
            "65b564bcaca5428db252441cb9006f75",
            "8efcb9bda59f4a7faf6ebd02a0e0053d",
            "dcaa0049a4bd4a7a9f41d3e485ddff41",
            "3eac6446852f4d839e5f59a53bfa455e",
            "701aa947d0854406a9481be81d13b334",
            "ddda3a3d07da4151a1a2eccbb545b2c5",
            "4c55f5ad10014b1db7c37c810bbc33a2",
            "d092d84e4c88419ba1050149fdb14776",
            "95926268b1f4488a94e63124caf25f73",
            "59a5b8c87c644497a7d823c86466a782",
            "0abcbced23344961be657f6b8822fcf7",
            "69cb9a5bde194b58b796c344eb6357d6"
          ]
        },
        "id": "BNvmWBj54mwq",
        "outputId": "46e55e57-6d2f-4d81-cd72-8773248d2fe8"
      },
      "execution_count": 10,
      "outputs": [
        {
          "output_type": "stream",
          "name": "stderr",
          "text": [
            "/usr/local/lib/python3.11/dist-packages/huggingface_hub/utils/_auth.py:94: UserWarning: \n",
            "The secret `HF_TOKEN` does not exist in your Colab secrets.\n",
            "To authenticate with the Hugging Face Hub, create a token in your settings tab (https://huggingface.co/settings/tokens), set it as secret in your Google Colab and restart your session.\n",
            "You will be able to reuse this secret in all of your notebooks.\n",
            "Please note that authentication is recommended but still optional to access public models or datasets.\n",
            "  warnings.warn(\n"
          ]
        },
        {
          "output_type": "display_data",
          "data": {
            "text/plain": [
              "Fetching 5 files:   0%|          | 0/5 [00:00<?, ?it/s]"
            ],
            "application/vnd.jupyter.widget-view+json": {
              "version_major": 2,
              "version_minor": 0,
              "model_id": "6488a83174ef40da9e916796a6950e4a"
            }
          },
          "metadata": {}
        },
        {
          "output_type": "display_data",
          "data": {
            "text/plain": [
              "config.json:   0%|          | 0.00/706 [00:00<?, ?B/s]"
            ],
            "application/vnd.jupyter.widget-view+json": {
              "version_major": 2,
              "version_minor": 0,
              "model_id": "47c8400995e440f5b5ba4fb8bcd9ed18"
            }
          },
          "metadata": {}
        },
        {
          "output_type": "display_data",
          "data": {
            "text/plain": [
              "special_tokens_map.json:   0%|          | 0.00/695 [00:00<?, ?B/s]"
            ],
            "application/vnd.jupyter.widget-view+json": {
              "version_major": 2,
              "version_minor": 0,
              "model_id": "45af3e9dd3e148e8b47cf79e3dd7c44c"
            }
          },
          "metadata": {}
        },
        {
          "output_type": "display_data",
          "data": {
            "text/plain": [
              "model_optimized.onnx:   0%|          | 0.00/66.5M [00:00<?, ?B/s]"
            ],
            "application/vnd.jupyter.widget-view+json": {
              "version_major": 2,
              "version_minor": 0,
              "model_id": "cd35ceb830564d949257f7fa6f9c717e"
            }
          },
          "metadata": {}
        },
        {
          "output_type": "display_data",
          "data": {
            "text/plain": [
              "tokenizer_config.json:   0%|          | 0.00/1.24k [00:00<?, ?B/s]"
            ],
            "application/vnd.jupyter.widget-view+json": {
              "version_major": 2,
              "version_minor": 0,
              "model_id": "0b4bc667dce443bbad4d5c9a31e4c4aa"
            }
          },
          "metadata": {}
        },
        {
          "output_type": "display_data",
          "data": {
            "text/plain": [
              "tokenizer.json:   0%|          | 0.00/711k [00:00<?, ?B/s]"
            ],
            "application/vnd.jupyter.widget-view+json": {
              "version_major": 2,
              "version_minor": 0,
              "model_id": "8efcb9bda59f4a7faf6ebd02a0e0053d"
            }
          },
          "metadata": {}
        }
      ]
    },
    {
      "cell_type": "markdown",
      "source": [
        "###11. Generate embedding for the first FAQ question (as demo)\n",
        "Get the length and shape of the embedding of the demo"
      ],
      "metadata": {
        "id": "W4RBc8PSfBg4"
      }
    },
    {
      "cell_type": "code",
      "source": [
        "document_embeddings = list(embedding_model.embed(KNOWLEDGE_BASE[0][\"question\"]))\n",
        "len(document_embeddings), document_embeddings[0].shape"
      ],
      "metadata": {
        "colab": {
          "base_uri": "https://localhost:8080/"
        },
        "id": "u4AcHATm4o4A",
        "outputId": "4d533fc0-7753-4d29-8a57-323688e25d19"
      },
      "execution_count": 11,
      "outputs": [
        {
          "output_type": "execute_result",
          "data": {
            "text/plain": [
              "(1, (384,))"
            ]
          },
          "metadata": {},
          "execution_count": 11
        }
      ]
    },
    {
      "cell_type": "markdown",
      "source": [
        "###12. Create a virtual table named 'document_embeddings' in the SQLite database.\n",
        "\n",
        "This table is used to store vector embeddings of documents, allowing for efficient similarity searches.\n",
        "\n",
        "i  Create a virtual table using the vec0 module for vector search\n",
        "\n",
        "ii  Define 'id' as the primary key (unique identifier for each document)\n",
        "\n",
        "iii  Define 'embedding' column to store vector embeddings\n",
        "\n",
        "  The size of the FLOAT array is dynamically set based on the length of the generated embeddings\n",
        "\n",
        "  e.g., if each embedding has 768 dimensions, the column will store a FLOAT[768] vector\n",
        "\n",
        "\n"
      ],
      "metadata": {
        "id": "V1sgeHuFfMz_"
      }
    },
    {
      "cell_type": "code",
      "source": [
        "db.execute(\n",
        "    f\"\"\"\n",
        "        CREATE VIRTUAL TABLE document_embeddings USING vec0(\n",
        "          id INTEGER PRIMARY KEY,\n",
        "          embedding FLOAT[{document_embeddings[0].shape[0]}]\n",
        "        );\n",
        "    \"\"\"\n",
        ")"
      ],
      "metadata": {
        "colab": {
          "base_uri": "https://localhost:8080/"
        },
        "id": "p9qm8ZBW4ury",
        "outputId": "52606ef4-afa9-4b94-80c5-fc645065dce0"
      },
      "execution_count": 12,
      "outputs": [
        {
          "output_type": "execute_result",
          "data": {
            "text/plain": [
              "<sqlite3.Cursor at 0x7b0fa1346240>"
            ]
          },
          "metadata": {},
          "execution_count": 12
        }
      ]
    },
    {
      "cell_type": "markdown",
      "source": [
        "###13.  Fetch all documents from the 'documents' table and store them in a list\n",
        "\n",
        "Fetch all documents\n",
        "\n",
        "Combine question and answer into a single string\n",
        "\n",
        "Print the first document\n",
        "\n",
        "Generate embeddings for all documents\n",
        "\n"
      ],
      "metadata": {
        "id": "cw--Si2ygL6n"
      }
    },
    {
      "cell_type": "code",
      "source": [
        "with db:\n",
        "    document_rows = db.execute(\"SELECT id, question, answer FROM documents\").fetchall()\n",
        "    documents = [f\"{row[1]}\\n{row[2]}\" for row in document_rows]\n",
        "    print(documents[0])\n",
        "    document_embeddings = list(embedding_model.embed(documents))\n",
        "\n",
        "    #Insert document embeddings into 'document_embeddings' table\n",
        "    for (id, _, _), embedding in zip(document_rows, document_embeddings):\n",
        "        db.execute(\n",
        "            \"INSERT INTO document_embeddings(id, embedding) VALUES (?, ?)\", #Insert SQL query\n",
        "            [id, serialize_float32(embedding)],  # Convert embedding to float32 and insert\n",
        "        )"
      ],
      "metadata": {
        "colab": {
          "base_uri": "https://localhost:8080/"
        },
        "id": "caKtj4jT4wlx",
        "outputId": "34a62762-a85a-4fd3-c4d1-87d5f17be251"
      },
      "execution_count": 13,
      "outputs": [
        {
          "output_type": "stream",
          "name": "stdout",
          "text": [
            "What types of investment accounts do you offer?\n",
            "We offer a range of investment accounts including individual brokerage accounts, retirement accounts (IRA, Roth IRA), and managed portfolios. Each account type is designed to meet different financial goals and risk tolerances.\n"
          ]
        }
      ]
    },
    {
      "cell_type": "markdown",
      "source": [
        "###14. Query SQLite metadata to view database structure"
      ],
      "metadata": {
        "id": "757Z6PNVhgK6"
      }
    },
    {
      "cell_type": "code",
      "source": [
        "%%sql\n",
        "SELECT\n",
        "    name,\n",
        "    type,\n",
        "    sql\n",
        "FROM\n",
        "    sqlite_master\n",
        "WHERE\n",
        "    type IN ('table', 'index', 'view', 'trigger')\n",
        "ORDER BY\n",
        "    type,\n",
        "    name;"
      ],
      "metadata": {
        "colab": {
          "base_uri": "https://localhost:8080/",
          "height": 391
        },
        "id": "GBEpR5GK4y1W",
        "outputId": "0ae519f0-7cce-407c-b127-ea7f9d81311d"
      },
      "execution_count": 14,
      "outputs": [
        {
          "output_type": "stream",
          "name": "stdout",
          "text": [
            " * sqlite:///faq.sqlite3\n",
            "Done.\n"
          ]
        },
        {
          "output_type": "error",
          "ename": "KeyError",
          "evalue": "'DEFAULT'",
          "traceback": [
            "\u001b[0;31m---------------------------------------------------------------------------\u001b[0m",
            "\u001b[0;31mKeyError\u001b[0m                                  Traceback (most recent call last)",
            "\u001b[0;32m<ipython-input-14-53246db31490>\u001b[0m in \u001b[0;36m<cell line: 0>\u001b[0;34m()\u001b[0m\n\u001b[0;32m----> 1\u001b[0;31m \u001b[0mget_ipython\u001b[0m\u001b[0;34m(\u001b[0m\u001b[0;34m)\u001b[0m\u001b[0;34m.\u001b[0m\u001b[0mrun_cell_magic\u001b[0m\u001b[0;34m(\u001b[0m\u001b[0;34m'sql'\u001b[0m\u001b[0;34m,\u001b[0m \u001b[0;34m''\u001b[0m\u001b[0;34m,\u001b[0m \u001b[0;34m\"SELECT\\n    name,\\n    type,\\n    sql\\nFROM\\n    sqlite_master\\nWHERE\\n    type IN ('table', 'index', 'view', 'trigger')\\nORDER BY\\n    type,\\n    name;\\n\"\u001b[0m\u001b[0;34m)\u001b[0m\u001b[0;34m\u001b[0m\u001b[0;34m\u001b[0m\u001b[0m\n\u001b[0m",
            "\u001b[0;32m/usr/local/lib/python3.11/dist-packages/google/colab/_shell.py\u001b[0m in \u001b[0;36mrun_cell_magic\u001b[0;34m(self, magic_name, line, cell)\u001b[0m\n\u001b[1;32m    332\u001b[0m     \u001b[0;32mif\u001b[0m \u001b[0mline\u001b[0m \u001b[0;32mand\u001b[0m \u001b[0;32mnot\u001b[0m \u001b[0mcell\u001b[0m\u001b[0;34m:\u001b[0m\u001b[0;34m\u001b[0m\u001b[0;34m\u001b[0m\u001b[0m\n\u001b[1;32m    333\u001b[0m       \u001b[0mcell\u001b[0m \u001b[0;34m=\u001b[0m \u001b[0;34m' '\u001b[0m\u001b[0;34m\u001b[0m\u001b[0;34m\u001b[0m\u001b[0m\n\u001b[0;32m--> 334\u001b[0;31m     \u001b[0;32mreturn\u001b[0m \u001b[0msuper\u001b[0m\u001b[0;34m(\u001b[0m\u001b[0;34m)\u001b[0m\u001b[0;34m.\u001b[0m\u001b[0mrun_cell_magic\u001b[0m\u001b[0;34m(\u001b[0m\u001b[0mmagic_name\u001b[0m\u001b[0;34m,\u001b[0m \u001b[0mline\u001b[0m\u001b[0;34m,\u001b[0m \u001b[0mcell\u001b[0m\u001b[0;34m)\u001b[0m\u001b[0;34m\u001b[0m\u001b[0;34m\u001b[0m\u001b[0m\n\u001b[0m\u001b[1;32m    335\u001b[0m \u001b[0;34m\u001b[0m\u001b[0m\n\u001b[1;32m    336\u001b[0m \u001b[0;34m\u001b[0m\u001b[0m\n",
            "\u001b[0;32m/usr/local/lib/python3.11/dist-packages/IPython/core/interactiveshell.py\u001b[0m in \u001b[0;36mrun_cell_magic\u001b[0;34m(self, magic_name, line, cell)\u001b[0m\n\u001b[1;32m   2471\u001b[0m             \u001b[0;32mwith\u001b[0m \u001b[0mself\u001b[0m\u001b[0;34m.\u001b[0m\u001b[0mbuiltin_trap\u001b[0m\u001b[0;34m:\u001b[0m\u001b[0;34m\u001b[0m\u001b[0;34m\u001b[0m\u001b[0m\n\u001b[1;32m   2472\u001b[0m                 \u001b[0margs\u001b[0m \u001b[0;34m=\u001b[0m \u001b[0;34m(\u001b[0m\u001b[0mmagic_arg_s\u001b[0m\u001b[0;34m,\u001b[0m \u001b[0mcell\u001b[0m\u001b[0;34m)\u001b[0m\u001b[0;34m\u001b[0m\u001b[0;34m\u001b[0m\u001b[0m\n\u001b[0;32m-> 2473\u001b[0;31m                 \u001b[0mresult\u001b[0m \u001b[0;34m=\u001b[0m \u001b[0mfn\u001b[0m\u001b[0;34m(\u001b[0m\u001b[0;34m*\u001b[0m\u001b[0margs\u001b[0m\u001b[0;34m,\u001b[0m \u001b[0;34m**\u001b[0m\u001b[0mkwargs\u001b[0m\u001b[0;34m)\u001b[0m\u001b[0;34m\u001b[0m\u001b[0;34m\u001b[0m\u001b[0m\n\u001b[0m\u001b[1;32m   2474\u001b[0m             \u001b[0;32mreturn\u001b[0m \u001b[0mresult\u001b[0m\u001b[0;34m\u001b[0m\u001b[0;34m\u001b[0m\u001b[0m\n\u001b[1;32m   2475\u001b[0m \u001b[0;34m\u001b[0m\u001b[0m\n",
            "\u001b[0;32m<decorator-gen-158>\u001b[0m in \u001b[0;36mexecute\u001b[0;34m(self, line, cell, local_ns)\u001b[0m\n",
            "\u001b[0;32m/usr/local/lib/python3.11/dist-packages/IPython/core/magic.py\u001b[0m in \u001b[0;36m<lambda>\u001b[0;34m(f, *a, **k)\u001b[0m\n\u001b[1;32m    185\u001b[0m     \u001b[0;31m# but it's overkill for just that one bit of state.\u001b[0m\u001b[0;34m\u001b[0m\u001b[0;34m\u001b[0m\u001b[0m\n\u001b[1;32m    186\u001b[0m     \u001b[0;32mdef\u001b[0m \u001b[0mmagic_deco\u001b[0m\u001b[0;34m(\u001b[0m\u001b[0marg\u001b[0m\u001b[0;34m)\u001b[0m\u001b[0;34m:\u001b[0m\u001b[0;34m\u001b[0m\u001b[0;34m\u001b[0m\u001b[0m\n\u001b[0;32m--> 187\u001b[0;31m         \u001b[0mcall\u001b[0m \u001b[0;34m=\u001b[0m \u001b[0;32mlambda\u001b[0m \u001b[0mf\u001b[0m\u001b[0;34m,\u001b[0m \u001b[0;34m*\u001b[0m\u001b[0ma\u001b[0m\u001b[0;34m,\u001b[0m \u001b[0;34m**\u001b[0m\u001b[0mk\u001b[0m\u001b[0;34m:\u001b[0m \u001b[0mf\u001b[0m\u001b[0;34m(\u001b[0m\u001b[0;34m*\u001b[0m\u001b[0ma\u001b[0m\u001b[0;34m,\u001b[0m \u001b[0;34m**\u001b[0m\u001b[0mk\u001b[0m\u001b[0;34m)\u001b[0m\u001b[0;34m\u001b[0m\u001b[0;34m\u001b[0m\u001b[0m\n\u001b[0m\u001b[1;32m    188\u001b[0m \u001b[0;34m\u001b[0m\u001b[0m\n\u001b[1;32m    189\u001b[0m         \u001b[0;32mif\u001b[0m \u001b[0mcallable\u001b[0m\u001b[0;34m(\u001b[0m\u001b[0marg\u001b[0m\u001b[0;34m)\u001b[0m\u001b[0;34m:\u001b[0m\u001b[0;34m\u001b[0m\u001b[0;34m\u001b[0m\u001b[0m\n",
            "\u001b[0;32m<decorator-gen-157>\u001b[0m in \u001b[0;36mexecute\u001b[0;34m(self, line, cell, local_ns)\u001b[0m\n",
            "\u001b[0;32m/usr/local/lib/python3.11/dist-packages/IPython/core/magic.py\u001b[0m in \u001b[0;36m<lambda>\u001b[0;34m(f, *a, **k)\u001b[0m\n\u001b[1;32m    185\u001b[0m     \u001b[0;31m# but it's overkill for just that one bit of state.\u001b[0m\u001b[0;34m\u001b[0m\u001b[0;34m\u001b[0m\u001b[0m\n\u001b[1;32m    186\u001b[0m     \u001b[0;32mdef\u001b[0m \u001b[0mmagic_deco\u001b[0m\u001b[0;34m(\u001b[0m\u001b[0marg\u001b[0m\u001b[0;34m)\u001b[0m\u001b[0;34m:\u001b[0m\u001b[0;34m\u001b[0m\u001b[0;34m\u001b[0m\u001b[0m\n\u001b[0;32m--> 187\u001b[0;31m         \u001b[0mcall\u001b[0m \u001b[0;34m=\u001b[0m \u001b[0;32mlambda\u001b[0m \u001b[0mf\u001b[0m\u001b[0;34m,\u001b[0m \u001b[0;34m*\u001b[0m\u001b[0ma\u001b[0m\u001b[0;34m,\u001b[0m \u001b[0;34m**\u001b[0m\u001b[0mk\u001b[0m\u001b[0;34m:\u001b[0m \u001b[0mf\u001b[0m\u001b[0;34m(\u001b[0m\u001b[0;34m*\u001b[0m\u001b[0ma\u001b[0m\u001b[0;34m,\u001b[0m \u001b[0;34m**\u001b[0m\u001b[0mk\u001b[0m\u001b[0;34m)\u001b[0m\u001b[0;34m\u001b[0m\u001b[0;34m\u001b[0m\u001b[0m\n\u001b[0m\u001b[1;32m    188\u001b[0m \u001b[0;34m\u001b[0m\u001b[0m\n\u001b[1;32m    189\u001b[0m         \u001b[0;32mif\u001b[0m \u001b[0mcallable\u001b[0m\u001b[0;34m(\u001b[0m\u001b[0marg\u001b[0m\u001b[0;34m)\u001b[0m\u001b[0;34m:\u001b[0m\u001b[0;34m\u001b[0m\u001b[0;34m\u001b[0m\u001b[0m\n",
            "\u001b[0;32m/usr/local/lib/python3.11/dist-packages/sql/magic.py\u001b[0m in \u001b[0;36mexecute\u001b[0;34m(self, line, cell, local_ns)\u001b[0m\n\u001b[1;32m    217\u001b[0m \u001b[0;34m\u001b[0m\u001b[0m\n\u001b[1;32m    218\u001b[0m         \u001b[0;32mtry\u001b[0m\u001b[0;34m:\u001b[0m\u001b[0;34m\u001b[0m\u001b[0;34m\u001b[0m\u001b[0m\n\u001b[0;32m--> 219\u001b[0;31m             \u001b[0mresult\u001b[0m \u001b[0;34m=\u001b[0m \u001b[0msql\u001b[0m\u001b[0;34m.\u001b[0m\u001b[0mrun\u001b[0m\u001b[0;34m.\u001b[0m\u001b[0mrun\u001b[0m\u001b[0;34m(\u001b[0m\u001b[0mconn\u001b[0m\u001b[0;34m,\u001b[0m \u001b[0mparsed\u001b[0m\u001b[0;34m[\u001b[0m\u001b[0;34m\"sql\"\u001b[0m\u001b[0;34m]\u001b[0m\u001b[0;34m,\u001b[0m \u001b[0mself\u001b[0m\u001b[0;34m,\u001b[0m \u001b[0muser_ns\u001b[0m\u001b[0;34m)\u001b[0m\u001b[0;34m\u001b[0m\u001b[0;34m\u001b[0m\u001b[0m\n\u001b[0m\u001b[1;32m    220\u001b[0m \u001b[0;34m\u001b[0m\u001b[0m\n\u001b[1;32m    221\u001b[0m             if (\n",
            "\u001b[0;32m/usr/local/lib/python3.11/dist-packages/sql/run.py\u001b[0m in \u001b[0;36mrun\u001b[0;34m(conn, sql, config, user_namespace)\u001b[0m\n\u001b[1;32m    372\u001b[0m             \u001b[0;32mif\u001b[0m \u001b[0mresult\u001b[0m \u001b[0;32mand\u001b[0m \u001b[0mconfig\u001b[0m\u001b[0;34m.\u001b[0m\u001b[0mfeedback\u001b[0m\u001b[0;34m:\u001b[0m\u001b[0;34m\u001b[0m\u001b[0;34m\u001b[0m\u001b[0m\n\u001b[1;32m    373\u001b[0m                 \u001b[0mprint\u001b[0m\u001b[0;34m(\u001b[0m\u001b[0minterpret_rowcount\u001b[0m\u001b[0;34m(\u001b[0m\u001b[0mresult\u001b[0m\u001b[0;34m.\u001b[0m\u001b[0mrowcount\u001b[0m\u001b[0;34m)\u001b[0m\u001b[0;34m)\u001b[0m\u001b[0;34m\u001b[0m\u001b[0;34m\u001b[0m\u001b[0m\n\u001b[0;32m--> 374\u001b[0;31m         \u001b[0mresultset\u001b[0m \u001b[0;34m=\u001b[0m \u001b[0mResultSet\u001b[0m\u001b[0;34m(\u001b[0m\u001b[0mresult\u001b[0m\u001b[0;34m,\u001b[0m \u001b[0mconfig\u001b[0m\u001b[0;34m)\u001b[0m\u001b[0;34m\u001b[0m\u001b[0;34m\u001b[0m\u001b[0m\n\u001b[0m\u001b[1;32m    375\u001b[0m         \u001b[0;32mif\u001b[0m \u001b[0mconfig\u001b[0m\u001b[0;34m.\u001b[0m\u001b[0mautopandas\u001b[0m\u001b[0;34m:\u001b[0m\u001b[0;34m\u001b[0m\u001b[0;34m\u001b[0m\u001b[0m\n\u001b[1;32m    376\u001b[0m             \u001b[0;32mreturn\u001b[0m \u001b[0mresultset\u001b[0m\u001b[0;34m.\u001b[0m\u001b[0mDataFrame\u001b[0m\u001b[0;34m(\u001b[0m\u001b[0;34m)\u001b[0m\u001b[0;34m\u001b[0m\u001b[0;34m\u001b[0m\u001b[0m\n",
            "\u001b[0;32m/usr/local/lib/python3.11/dist-packages/sql/run.py\u001b[0m in \u001b[0;36m__init__\u001b[0;34m(self, sqlaproxy, config)\u001b[0m\n\u001b[1;32m    114\u001b[0m                 \u001b[0mlist\u001b[0m\u001b[0;34m.\u001b[0m\u001b[0m__init__\u001b[0m\u001b[0;34m(\u001b[0m\u001b[0mself\u001b[0m\u001b[0;34m,\u001b[0m \u001b[0msqlaproxy\u001b[0m\u001b[0;34m.\u001b[0m\u001b[0mfetchall\u001b[0m\u001b[0;34m(\u001b[0m\u001b[0;34m)\u001b[0m\u001b[0;34m)\u001b[0m\u001b[0;34m\u001b[0m\u001b[0;34m\u001b[0m\u001b[0m\n\u001b[1;32m    115\u001b[0m             \u001b[0mself\u001b[0m\u001b[0;34m.\u001b[0m\u001b[0mfield_names\u001b[0m \u001b[0;34m=\u001b[0m \u001b[0munduplicate_field_names\u001b[0m\u001b[0;34m(\u001b[0m\u001b[0mself\u001b[0m\u001b[0;34m.\u001b[0m\u001b[0mkeys\u001b[0m\u001b[0;34m)\u001b[0m\u001b[0;34m\u001b[0m\u001b[0;34m\u001b[0m\u001b[0m\n\u001b[0;32m--> 116\u001b[0;31m             \u001b[0mself\u001b[0m\u001b[0;34m.\u001b[0m\u001b[0mpretty\u001b[0m \u001b[0;34m=\u001b[0m \u001b[0mPrettyTable\u001b[0m\u001b[0;34m(\u001b[0m\u001b[0mself\u001b[0m\u001b[0;34m.\u001b[0m\u001b[0mfield_names\u001b[0m\u001b[0;34m,\u001b[0m \u001b[0mstyle\u001b[0m\u001b[0;34m=\u001b[0m\u001b[0mprettytable\u001b[0m\u001b[0;34m.\u001b[0m\u001b[0m__dict__\u001b[0m\u001b[0;34m[\u001b[0m\u001b[0mconfig\u001b[0m\u001b[0;34m.\u001b[0m\u001b[0mstyle\u001b[0m\u001b[0;34m.\u001b[0m\u001b[0mupper\u001b[0m\u001b[0;34m(\u001b[0m\u001b[0;34m)\u001b[0m\u001b[0;34m]\u001b[0m\u001b[0;34m)\u001b[0m\u001b[0;34m\u001b[0m\u001b[0;34m\u001b[0m\u001b[0m\n\u001b[0m\u001b[1;32m    117\u001b[0m         \u001b[0;32melse\u001b[0m\u001b[0;34m:\u001b[0m\u001b[0;34m\u001b[0m\u001b[0;34m\u001b[0m\u001b[0m\n\u001b[1;32m    118\u001b[0m             \u001b[0mlist\u001b[0m\u001b[0;34m.\u001b[0m\u001b[0m__init__\u001b[0m\u001b[0;34m(\u001b[0m\u001b[0mself\u001b[0m\u001b[0;34m,\u001b[0m \u001b[0;34m[\u001b[0m\u001b[0;34m]\u001b[0m\u001b[0;34m)\u001b[0m\u001b[0;34m\u001b[0m\u001b[0;34m\u001b[0m\u001b[0m\n",
            "\u001b[0;31mKeyError\u001b[0m: 'DEFAULT'"
          ]
        }
      ]
    },
    {
      "cell_type": "markdown",
      "source": [
        "###15. Define a query for testing\n",
        "Generate embedding for query\n",
        "\n",
        "Extract first embedding"
      ],
      "metadata": {
        "id": "bL2ZFMqAhmI0"
      }
    },
    {
      "cell_type": "code",
      "source": [
        "query = \"How can I check my investment, is it safe?\"\n",
        "query_embeddings = list(embedding_model.embed([query]))\n",
        "query_embedding = query_embeddings[0]"
      ],
      "metadata": {
        "id": "f9ooqI_6442E"
      },
      "execution_count": 15,
      "outputs": []
    },
    {
      "cell_type": "markdown",
      "source": [
        "###16. Perform a vector similarity search in the database to find the top 3 most relevant questions.\n",
        "\n",
        "####Retrieve the:\n",
        "\n",
        "unique ID of the matched document\n",
        "\n",
        "The similarity score (distance metric) between query and stored embeddings\n",
        "\n",
        "The question from the original document\n",
        "\n",
        "The corresponding answer from the original document\n",
        "\n",
        "\n",
        "Then:\n",
        "\n",
        "Join with the 'documents' table to get question-answer pairs\n",
        "\n",
        "Perform vector similarity search using the query embedding\n",
        "\n",
        "Retrieve the top 3 closest matches based on similarity\n",
        "\n",
        "Sort the results by similarity (lower distance means more relevant)\n",
        "\n",
        "Lastly:\n",
        "\n",
        "Convert query embedding to float32 format for compatibility with the database\n",
        "\n",
        "\n",
        "Execute the query and fetch all results\n",
        "\n"
      ],
      "metadata": {
        "id": "wHSyfrxRhzKa"
      }
    },
    {
      "cell_type": "code",
      "source": [
        "results = db.execute(\n",
        "    \"\"\"\n",
        "      SELECT\n",
        "        document_embeddings.id,\n",
        "        distance,\n",
        "        question,\n",
        "        answer\n",
        "      FROM document_embeddings\n",
        "      LEFT JOIN documents ON documents.id = document_embeddings.id\n",
        "      WHERE embedding MATCH ?\n",
        "        AND k = 3\n",
        "      ORDER BY distance\n",
        "    \"\"\",\n",
        "    [serialize_float32(query_embedding)],\n",
        ").fetchall()"
      ],
      "metadata": {
        "id": "-fNBfvEI_-Fg"
      },
      "execution_count": 16,
      "outputs": []
    },
    {
      "cell_type": "code",
      "source": [
        "results"
      ],
      "metadata": {
        "colab": {
          "base_uri": "https://localhost:8080/"
        },
        "id": "co8KPjaPAD18",
        "outputId": "f554c4b6-0448-4c87-d365-341412d97aa6"
      },
      "execution_count": 17,
      "outputs": [
        {
          "output_type": "execute_result",
          "data": {
            "text/plain": [
              "[(8,\n",
              "  0.7390538454055786,\n",
              "  'How do I track my investments?',\n",
              "  'You can track your portfolio performance through our mobile app or website. We provide real-time updates, detailed analytics, and personalized insights to help you monitor your investments.'),\n",
              " (4,\n",
              "  0.756416380405426,\n",
              "  'Is my money insured?',\n",
              "  'Yes, cash balances in your investment account are insured by the FDIC up to applicable limits when held in a partner bank. Securities are protected by SIPC up to $500,000, including $250,000 for cash claims.'),\n",
              " (3,\n",
              "  0.8273014426231384,\n",
              "  'How do I open an account?',\n",
              "  'You can open an account online by providing your personal details, financial information, and identity verification documents. The process typically takes a few minutes, and you can start investing once your account is approved.')]"
            ]
          },
          "metadata": {},
          "execution_count": 17
        }
      ]
    },
    {
      "cell_type": "markdown",
      "source": [
        "###17. Define a function to retrieve context based on user query"
      ],
      "metadata": {
        "id": "iNUmOLQ4jEpA"
      }
    },
    {
      "cell_type": "code",
      "source": [
        "def retrieve_context(\n",
        "    query: str, k: int = 3, embedding_model: TextEmbedding = embedding_model\n",
        ") -> str:                               # Function takes a query, number of results (k), and an embedding model\n",
        "    query_embedding = list(embedding_model.embed([query]))[0]\n",
        "    results = db.execute(\n",
        "        \"\"\"\n",
        "        SELECT\n",
        "            document_embeddings.id,\n",
        "            distance,\n",
        "            question,\n",
        "            answer\n",
        "        FROM document_embeddings\n",
        "        LEFT JOIN documents ON documents.id = document_embeddings.id\n",
        "        WHERE embedding MATCH ?\n",
        "            AND k = ?\n",
        "        ORDER BY distance\n",
        "        \"\"\",\n",
        "        [serialize_float32(query_embedding), k],\n",
        "    ).fetchall()\n",
        "\n",
        "     # Format the results as a string, separating each question-answer pair with \"---\"\n",
        "    return \"\\n---\\n\".join([f\"{item[2]}\\n{item[3]}\" for item in results])"
      ],
      "metadata": {
        "id": "rLQSUjLkAF47"
      },
      "execution_count": 18,
      "outputs": []
    },
    {
      "cell_type": "markdown",
      "source": [
        "###18. Test retrieval function"
      ],
      "metadata": {
        "id": "cqeggxNykadt"
      }
    },
    {
      "cell_type": "code",
      "source": [
        "query = \"How can I check my investment, is it safe?\"\n",
        "print(retrieve_context(query))"
      ],
      "metadata": {
        "colab": {
          "base_uri": "https://localhost:8080/"
        },
        "id": "-iU9cwaaANBn",
        "outputId": "798db9fe-f672-44d7-aca0-d6f78ed94380"
      },
      "execution_count": 19,
      "outputs": [
        {
          "output_type": "stream",
          "name": "stdout",
          "text": [
            "How do I track my investments?\n",
            "You can track your portfolio performance through our mobile app or website. We provide real-time updates, detailed analytics, and personalized insights to help you monitor your investments.\n",
            "---\n",
            "Is my money insured?\n",
            "Yes, cash balances in your investment account are insured by the FDIC up to applicable limits when held in a partner bank. Securities are protected by SIPC up to $500,000, including $250,000 for cash claims.\n",
            "---\n",
            "How do I open an account?\n",
            "You can open an account online by providing your personal details, financial information, and identity verification documents. The process typically takes a few minutes, and you can start investing once your account is approved.\n"
          ]
        }
      ]
    },
    {
      "cell_type": "markdown",
      "source": [
        "###19. Define system prompt for chatbot (for LLM)"
      ],
      "metadata": {
        "id": "jPZcs0OIkeRa"
      }
    },
    {
      "cell_type": "code",
      "source": [
        "SYSTEM_PROMPT = \"\"\" You're a senior customer support agent for an online investment platform.\n",
        "You're always helpful and answer customer questions only based on the provided information.\n",
        "If you don't know the answer – just reply with an excuse that you don't know.\n",
        "Keep your answers brief and to the point. Be kind and respectful.\n",
        "\n",
        "Use the provided context for your answers. The most relevant information is at the top.\n",
        "Each piece of information is separated by ---.\n",
        "\"\"\""
      ],
      "metadata": {
        "id": "aSr5HEv9Z_wg"
      },
      "execution_count": 20,
      "outputs": []
    },
    {
      "cell_type": "markdown",
      "source": [
        "###20. Function to create a user prompt, with the information from the knowledge base as context\n",
        "\n",
        "Removes common leading whitespace for better formatting\n",
        "\n",
        "Calls retrieve_context() to get relevant question-answer pairs from the database\n",
        "\n",
        "Includes the original user query at the end"
      ],
      "metadata": {
        "id": "Tgvh7XQMkr8_"
      }
    },
    {
      "cell_type": "code",
      "source": [
        "def create_user_prompt(query: str) -> str:\n",
        "    return dedent(\n",
        "        f\"\"\"\n",
        "Use the following information:\n",
        "\n",
        "```\n",
        "{retrieve_context(query)}\n",
        "```\n",
        "\n",
        "to answer the question:\n",
        "{query}\n",
        "    \"\"\"\n",
        "    )"
      ],
      "metadata": {
        "id": "bP4pJO7rAWxE"
      },
      "execution_count": 21,
      "outputs": []
    },
    {
      "cell_type": "code",
      "source": [
        "print(create_user_prompt(query))"
      ],
      "metadata": {
        "colab": {
          "base_uri": "https://localhost:8080/"
        },
        "id": "MrVMGmDeAY2l",
        "outputId": "e5667a42-3263-4cee-d5c2-0169e78a7f22"
      },
      "execution_count": 22,
      "outputs": [
        {
          "output_type": "stream",
          "name": "stdout",
          "text": [
            "\n",
            "Use the following information:\n",
            "\n",
            "```\n",
            "How do I track my investments?\n",
            "You can track your portfolio performance through our mobile app or website. We provide real-time updates, detailed analytics, and personalized insights to help you monitor your investments.\n",
            "---\n",
            "Is my money insured?\n",
            "Yes, cash balances in your investment account are insured by the FDIC up to applicable limits when held in a partner bank. Securities are protected by SIPC up to $500,000, including $250,000 for cash claims.\n",
            "---\n",
            "How do I open an account?\n",
            "You can open an account online by providing your personal details, financial information, and identity verification documents. The process typically takes a few minutes, and you can start investing once your account is approved.\n",
            "```\n",
            "\n",
            "to answer the question:\n",
            "How can I check my investment, is it safe?\n",
            "\n"
          ]
        }
      ]
    },
    {
      "cell_type": "markdown",
      "source": [
        "###21. Store user prompt and Define the initial message structure for LLM API"
      ],
      "metadata": {
        "id": "CUPrll7JmC2X"
      }
    },
    {
      "cell_type": "code",
      "source": [
        "user_prompt = create_user_prompt(query)\n",
        "\n",
        "messages = [\n",
        "    {\n",
        "        \"role\": \"system\",\n",
        "        \"content\": SYSTEM_PROMPT,\n",
        "    },\n",
        "]"
      ],
      "metadata": {
        "id": "SBjxjLyIAbIH"
      },
      "execution_count": 23,
      "outputs": []
    },
    {
      "cell_type": "markdown",
      "source": [
        "###22. Function to call the AI model for generating responses"
      ],
      "metadata": {
        "id": "q2qg7frPma0C"
      }
    },
    {
      "cell_type": "code",
      "source": [
        "def call_model(query: str, messages: List) -> ChatCompletionMessage:\n",
        "  #Append user query to message history\n",
        "    messages.append(\n",
        "        {\n",
        "            \"role\": \"user\",\n",
        "            \"content\": create_user_prompt(query),\n",
        "        },\n",
        "    )\n",
        "    response = client.chat.completions.create(\n",
        "        model=MODEL,\n",
        "        messages=messages,   # Pass conversation history\n",
        "        temperature=TEMPERATURE,\n",
        "        max_tokens=MAX_TOKENS,\n",
        "    )\n",
        "    message = response.choices[0].message   # Extract response\n",
        "    messages.append(message)    # Store response in conversation history\n",
        "    return message"
      ],
      "metadata": {
        "id": "uJEdEimoAiLS"
      },
      "execution_count": 24,
      "outputs": []
    },
    {
      "cell_type": "markdown",
      "source": [
        "###23. Test model with query"
      ],
      "metadata": {
        "id": "dFA9yPrdnHs_"
      }
    },
    {
      "cell_type": "code",
      "source": [
        "query = \"How can I check my investment, is it safe?\"\n",
        "message = call_model(query, messages)\n",
        "print(message)"
      ],
      "metadata": {
        "colab": {
          "base_uri": "https://localhost:8080/"
        },
        "id": "yFSxiqgCAkIb",
        "outputId": "331d40bf-46d8-425d-87cd-90a6d9252219"
      },
      "execution_count": 25,
      "outputs": [
        {
          "output_type": "stream",
          "name": "stdout",
          "text": [
            "ChatCompletionMessage(content='You can track your investments through our mobile app or website, which provides real-time updates. As for safety, your cash balances are insured by the FDIC and securities are protected by SIPC up to $500,000.', role='assistant', function_call=None, reasoning=None, tool_calls=None)\n"
          ]
        }
      ]
    },
    {
      "cell_type": "code",
      "source": [
        "print(message.content)"
      ],
      "metadata": {
        "colab": {
          "base_uri": "https://localhost:8080/"
        },
        "id": "SoSaUSTXAwx_",
        "outputId": "d5d25a8f-d481-41b9-a636-3fd9c807a686"
      },
      "execution_count": 26,
      "outputs": [
        {
          "output_type": "stream",
          "name": "stdout",
          "text": [
            "You can track your investments through our mobile app or website, which provides real-time updates. As for safety, your cash balances are insured by the FDIC and securities are protected by SIPC up to $500,000.\n"
          ]
        }
      ]
    },
    {
      "cell_type": "markdown",
      "source": [
        "####In Comparison:\n",
        "\"question\": \"How do I track my investments?\",\n",
        "        \n",
        "\"answer\": \"You can track your portfolio performance through our mobile app or website. We provide real-time updates, detailed analytics, and personalized insights to help you monitor your investments.\",\n",
        "\n",
        "\"question\": \"Is my money insured?\",\n",
        "\n",
        "\"answer\": \"Yes, cash balances in your investment account are insured by the FDIC up to applicable limits when held in a partner bank. Securities are protected by SIPC up to $500,000, including $250,000 for cash claims.\","
      ],
      "metadata": {
        "id": "xw-XqZmknfmA"
      }
    },
    {
      "cell_type": "markdown",
      "source": [
        "#### Another Test sample"
      ],
      "metadata": {
        "id": "2nTVVMtgnLFo"
      }
    },
    {
      "cell_type": "code",
      "source": [
        "query = \"Is there any free of tax offering and can I buying crypto?\"\n",
        "message = call_model(query, messages)\n",
        "print(message.content)"
      ],
      "metadata": {
        "colab": {
          "base_uri": "https://localhost:8080/"
        },
        "id": "Kxbm_zvIA2cb",
        "outputId": "347bdbc0-466c-4dd2-c267-c22b2994a4d9"
      },
      "execution_count": 27,
      "outputs": [
        {
          "output_type": "stream",
          "name": "stdout",
          "text": [
            "We offer tax-advantaged accounts such as IRAs and 529 college savings plans, which can help minimize taxable gains. Additionally, yes, you can invest in cryptocurrencies through our platform, but please note that they come with higher risks.\n"
          ]
        }
      ]
    },
    {
      "cell_type": "markdown",
      "source": [
        "####In Comparison:\n",
        "\n",
        "\"question\": \"Do you offer tax-advantaged investment options?\",\n",
        "\n",
        "\"answer\": \"Yes, we offer tax-advantaged accounts such as IRAs and 529 college savings plans. Additionally, we provide tax-loss harvesting strategies to help minimize taxable gains.\"\n",
        "\n",
        "\"question\": \"Can I invest in cryptocurrencies?\",\n",
        "\n",
        "\"answer\": \"Yes, we provide access to cryptocurrency investments through select funds, ETFs, and direct crypto trading on our platform. Please note that cryptocurrency investments come with higher risks and volatility.\""
      ],
      "metadata": {
        "id": "yGk7a3lsn8w4"
      }
    },
    {
      "cell_type": "markdown",
      "source": [
        "#### Test sample where the user ask irrelevant questions:"
      ],
      "metadata": {
        "id": "_cp07jaQoIvy"
      }
    },
    {
      "cell_type": "code",
      "source": [
        "query = \"How long did it take me to complete this project?\"\n",
        "message = call_model(query, messages)\n",
        "print(message.content)"
      ],
      "metadata": {
        "colab": {
          "base_uri": "https://localhost:8080/"
        },
        "id": "6c_XEnyaA4GK",
        "outputId": "8d0eebce-3bf4-4705-a672-b64825ae59d9"
      },
      "execution_count": 28,
      "outputs": [
        {
          "output_type": "stream",
          "name": "stdout",
          "text": [
            "I don't know. The information provided is about opening an account, tracking investments, and depositing/withdrawing funds, but it doesn't mention a project or its completion time.\n"
          ]
        }
      ]
    }
  ]
}